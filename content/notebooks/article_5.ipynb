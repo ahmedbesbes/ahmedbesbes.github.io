{
 "cells": [
  {
   "cell_type": "markdown",
   "metadata": {},
   "source": [
    "This article is an extension of a <a href=\"https://ahmedbesbes.com/sentiment-analysis-on-twitter-using-word2vec-and-keras.html\" style=\"text-decoration: none\">previous one</a> I wrote when I was experimenting sentiment analysis on twitter data. Back in the time, I explored a simple model: a two-layer feed-forward neural network trained on **keras**. The input tweets were represented as document vectors resulting from a weighted average of the embeddings of the words composing the tweet.\n",
    "\n",
    "The embedding I used was a word2vec model I trained from scratch on the corpus using **gensim**. The task was a binary classification and I was able with this setting to achieve 79% accuracy.\n",
    "\n",
    "The goal of this post is to explore other NLP models trained on the same dataset and then benchmark their respective performance on a given test set.\n",
    "\n",
    "We'll go through different models: from simple ones relying on a bag-of-word representation to a heavy machinery deploying convolutional/recurrent networks: We'll see if we'll score more than 79% accuracy! "
   ]
  },
  {
   "cell_type": "markdown",
   "metadata": {},
   "source": [
    "<img src=\"./images/article_5/rnn_unrolled.png\" width=\"100%\">"
   ]
  },
  {
   "cell_type": "markdown",
   "metadata": {},
   "source": [
    "I will start from simple models and add up complexity progressively. The goal is also to show that ** simple models work well too**.\n",
    "\n",
    "So I'm going to try out these:\n",
    "\n",
    "- Logistic regression with word ngrams\n",
    "- Logistic regression with  character ngrams\n",
    "- Logistic regression with word and character ngrams\n",
    "- Recurrent neural network (bidirectional GRU) without pre-trained embeddings\n",
    "- Recurrent neural network (bidirectional GRU) with GloVe pre-trained embeddings\n",
    "- Multi channel Convolutional Neural Network \n",
    "- RNN (Bidirectional GRU) + CNN model \n",
    "\n",
    "By the end of this post, you will have a boilerplate code for each of these NLP techniques. It'll help you kickstart your NLP project and eventually achieve state-of-the art results (some of these models are really powerful).\n",
    "\n",
    "We'll also provide a comprehensive benchmark from which we'll tell which model is best suited for predicting the sentiment of a tweet.\n",
    "\n",
    "In the related git repo, I will publish the different models, their predictions, as well as the test set. You can try them yourself and get confident about the results\n",
    "\n",
    "Let's get started!"
   ]
  },
  {
   "cell_type": "code",
   "execution_count": 32,
   "metadata": {},
   "outputs": [
    {
     "data": {
      "text/html": [
       "<style>\n",
       "div.prompt {display:none}\n",
       "</style>"
      ],
      "text/plain": [
       "<IPython.core.display.HTML object>"
      ]
     },
     "metadata": {},
     "output_type": "display_data"
    }
   ],
   "source": [
    "import os\n",
    "import re\n",
    "\n",
    "import warnings\n",
    "warnings.simplefilter(\"ignore\", UserWarning)\n",
    "from matplotlib import pyplot as plt\n",
    "%matplotlib inline\n",
    "\n",
    "\n",
    "import pandas as pd\n",
    "pd.options.mode.chained_assignment = None\n",
    "import numpy as np \n",
    "from string import punctuation\n",
    "\n",
    "from nltk.tokenize import word_tokenize\n",
    "\n",
    "from sklearn.model_selection import train_test_split\n",
    "from sklearn.feature_extraction.text import TfidfVectorizer\n",
    "from sklearn.linear_model import LogisticRegression\n",
    "from sklearn.metrics import accuracy_score, auc, roc_auc_score\n",
    "from sklearn.externals import joblib\n",
    "\n",
    "import scipy\n",
    "from scipy.sparse import hstack"
   ]
  },
  {
   "cell_type": "markdown",
   "metadata": {},
   "source": [
    "# 0 - Data pre-processing"
   ]
  },
  {
   "cell_type": "markdown",
   "metadata": {},
   "source": [
    "The dataset can be downloaded from this <a href=\"http://thinknook.com/twitter-sentiment-analysis-training-corpus-dataset-2012-09-22/\">link</a>.\n",
    "\n",
    "We'll load it and restrict ourselves to the variables we need (Sentiment and SentimentText).\n",
    "\n",
    "It contains 1578614 classified tweets, each row is marked as 1 for positive sentiment and 0 for negative sentiment.\n",
    "\n",
    "The author recommend using 1/10 for testing the algorithm and the rest for training."
   ]
  },
  {
   "cell_type": "code",
   "execution_count": 3,
   "metadata": {},
   "outputs": [
    {
     "name": "stdout",
     "output_type": "stream",
     "text": [
      "(1578614, 2)\n"
     ]
    }
   ],
   "source": [
    "data = pd.read_csv('./data/tweets.csv', encoding='latin1', usecols=['Sentiment', 'SentimentText'])\n",
    "data.columns = ['sentiment', 'text']\n",
    "data = data.sample(frac=1, random_state=42)\n",
    "print(data.shape)"
   ]
  },
  {
   "cell_type": "code",
   "execution_count": 4,
   "metadata": {},
   "outputs": [
    {
     "name": "stdout",
     "output_type": "stream",
     "text": [
      "1 http://www.popsugar.com/2999655 keep voting for robert pattinson in the popsugar100 as well!! \n",
      "1 @GamrothTaylor I am starting to worry about you, only I have Navy Seal type sleep hours. \n",
      "0 sunburned...no sunbaked!    ow.  it hurts to sit.\n",
      "1 Celebrating my 50th birthday by doing exactly the same as I do every other day - working on our websites.  It's just another day.   \n",
      "1 Leah and Aiden Gosselin are the cutest kids on the face of the Earth \n",
      "1 @MissHell23 Oh. I didn't even notice.  \n",
      "0 WTF is wrong with me?!!! I'm completely miserable. I need to snap out of this \n",
      "0 Was having the best time in the gym until I got to the car and had messages waiting for me... back to the down stage! \n",
      "1 @JENTSYY oh what happened?? \n",
      "0 @catawu Ghod forbid he should feel responsible for anything! \n"
     ]
    }
   ],
   "source": [
    "for row in data.head(10).iterrows():\n",
    "    print(row[1]['sentiment'], row[1]['text']) "
   ]
  },
  {
   "cell_type": "markdown",
   "metadata": {},
   "source": [
    "Tweets are noisy, let's clean them by removing urls, hashtags and user mentions."
   ]
  },
  {
   "cell_type": "code",
   "execution_count": 5,
   "metadata": {},
   "outputs": [],
   "source": [
    "def tokenize(tweet):\n",
    "    tweet = re.sub(r'http\\S+', '', tweet)\n",
    "    tweet = re.sub(r\"#(\\w+)\", '', tweet)\n",
    "    tweet = re.sub(r\"@(\\w+)\", '', tweet)\n",
    "    tweet = re.sub(r'[^\\w\\s]', '', tweet)\n",
    "    tweet = tweet.strip().lower()\n",
    "    tokens = word_tokenize(tweet)\n",
    "    return tokens"
   ]
  },
  {
   "cell_type": "markdown",
   "metadata": {},
   "source": [
    "Once the data is clean, we save it on disk."
   ]
  },
  {
   "cell_type": "code",
   "execution_count": 6,
   "metadata": {},
   "outputs": [
    {
     "name": "stdout",
     "output_type": "stream",
     "text": [
      "(1575026, 2)\n"
     ]
    }
   ],
   "source": [
    "data['tokens'] = data.text.progress_map(tokenize)\n",
    "data['cleaned_text'] = data['tokens'].map(lambda tokens: ' '.join(tokens))\n",
    "data[['sentiment', 'cleaned_text']].to_csv('./data/cleaned_text.csv')\n",
    "\n",
    "data = pd.read_csv('./data/cleaned_text.csv')\n",
    "print(data.shape)"
   ]
  },
  {
   "cell_type": "code",
   "execution_count": 7,
   "metadata": {},
   "outputs": [
    {
     "data": {
      "text/html": [
       "<div>\n",
       "<style scoped>\n",
       "    .dataframe tbody tr th:only-of-type {\n",
       "        vertical-align: middle;\n",
       "    }\n",
       "\n",
       "    .dataframe tbody tr th {\n",
       "        vertical-align: top;\n",
       "    }\n",
       "\n",
       "    .dataframe thead th {\n",
       "        text-align: right;\n",
       "    }\n",
       "</style>\n",
       "<table border=\"1\" class=\"dataframe\">\n",
       "  <thead>\n",
       "    <tr style=\"text-align: right;\">\n",
       "      <th></th>\n",
       "      <th>sentiment</th>\n",
       "      <th>cleaned_text</th>\n",
       "    </tr>\n",
       "  </thead>\n",
       "  <tbody>\n",
       "    <tr>\n",
       "      <th>0</th>\n",
       "      <td>0</td>\n",
       "      <td>playing with my routers looks like i might hav...</td>\n",
       "    </tr>\n",
       "    <tr>\n",
       "      <th>1</th>\n",
       "      <td>1</td>\n",
       "      <td>sleeeep agh im so tired and they wrote gay on ...</td>\n",
       "    </tr>\n",
       "    <tr>\n",
       "      <th>2</th>\n",
       "      <td>0</td>\n",
       "      <td>alan ignored me during the concert boo</td>\n",
       "    </tr>\n",
       "    <tr>\n",
       "      <th>3</th>\n",
       "      <td>1</td>\n",
       "      <td>really want some mini eggs why are they only a...</td>\n",
       "    </tr>\n",
       "    <tr>\n",
       "      <th>4</th>\n",
       "      <td>0</td>\n",
       "      <td>thanks guys sorry i had to miss your show at m...</td>\n",
       "    </tr>\n",
       "  </tbody>\n",
       "</table>\n",
       "</div>"
      ],
      "text/plain": [
       "   sentiment                                       cleaned_text\n",
       "0          0  playing with my routers looks like i might hav...\n",
       "1          1  sleeeep agh im so tired and they wrote gay on ...\n",
       "2          0             alan ignored me during the concert boo\n",
       "3          1  really want some mini eggs why are they only a...\n",
       "4          0  thanks guys sorry i had to miss your show at m..."
      ]
     },
     "execution_count": 7,
     "metadata": {},
     "output_type": "execute_result"
    }
   ],
   "source": [
    "data.head()"
   ]
  },
  {
   "cell_type": "markdown",
   "metadata": {},
   "source": [
    "Now that the dataset is cleaned, let's prepare a train/test split to build our models. \n",
    "\n",
    "We'll use this split throughout all the notebook."
   ]
  },
  {
   "cell_type": "code",
   "execution_count": 8,
   "metadata": {},
   "outputs": [
    {
     "name": "stdout",
     "output_type": "stream",
     "text": [
      "(1417523,) (157503,) (1417523,) (157503,)\n"
     ]
    }
   ],
   "source": [
    "x_train, x_test, y_train, y_test = train_test_split(data['cleaned_text'], \n",
    "                                                    data['sentiment'], \n",
    "                                                    test_size=0.1, \n",
    "                                                    random_state=42,\n",
    "                                                    stratify=data['sentiment'])\n",
    "\n",
    "print(x_train.shape, x_test.shape, y_train.shape, y_test.shape)"
   ]
  },
  {
   "cell_type": "markdown",
   "metadata": {},
   "source": [
    "I'm saving the test labels on disk for later use."
   ]
  },
  {
   "cell_type": "code",
   "execution_count": 9,
   "metadata": {},
   "outputs": [],
   "source": [
    "pd.DataFrame(y_test).to_csv('./predictions/y_true.csv', index=False, encoding='utf-8')"
   ]
  },
  {
   "cell_type": "markdown",
   "metadata": {},
   "source": [
    "Let's start applying some machine learning now:"
   ]
  },
  {
   "cell_type": "markdown",
   "metadata": {},
   "source": [
    "# 1 - Bag of word model based on word ngrams\n",
    "\n",
    "So. What's an **n-gram** ?"
   ]
  },
  {
   "cell_type": "markdown",
   "metadata": {},
   "source": [
    " ![](./images/article_5/ngrams.png)"
   ]
  },
  {
   "cell_type": "markdown",
   "metadata": {},
   "source": [
    "As we see it in this figure, n-grams are simply all combinations of adjacent words (in this case) of length n that you can find in your source text. \n",
    "\n",
    "In our model, we are going to use unigrams (n=1) and bigrams (n=2) as features. \n",
    "\n",
    "The dataset will therefore be represented as a matrix where each row refers to a tweet and each column refers to a feature (unigram or bigram) extracted from the text (after tokenization and cleaning). Each cell will be the **tf-idf** score. (we could also use a simple count but tf-idf is more used in general and usually works better). We call this matrix the **document-term matrix**. \n",
    "\n",
    "As you can imagine, the number of unique unigrams and bigrams of 1.5 million-tweet corpus is huge. In practice, we will set this number to a fixed value, for a computational reason. You can determine this value by using a cross-validation.\n",
    "\n",
    "This is what the corpus should look like after vectorization."
   ]
  },
  {
   "cell_type": "markdown",
   "metadata": {},
   "source": [
    "![](./images/article_5/tfidf.jpg)"
   ]
  },
  {
   "cell_type": "markdown",
   "metadata": {},
   "source": [
    "I like pizza a lot\n",
    "===\n",
    "    \n",
    "Let's say we want to feed this sentence to a predictive model using the features described above.\n",
    "\n",
    "Given that we're using unigrams and bigrams, the model will extract the following features:\n",
    "\n",
    "i, like, pizza, a, lot, i like, like pizza, pizza a, a lot\n",
    "===\n",
    "\n",
    "Therefore, the sentence will be formed by a vector of size N (= total number of tokens) containing lots of zeros and the tf-idf scores of these ngrams.\n",
    "So you can clearly see that we will be dealing with large and **sparse** vectors.\n",
    "\n",
    "When dealing with large and sparse data, linear models generally perform quite well. Besides, they are faster to train than other types of models (e.g. tree-based models).\n",
    "\n",
    "I can tell from past experience that **logistic regression** works well on top of sparse tfidf matrices."
   ]
  },
  {
   "cell_type": "code",
   "execution_count": 11,
   "metadata": {},
   "outputs": [],
   "source": [
    "vectorizer_word = TfidfVectorizer(max_features=40000,\n",
    "                             min_df=5, \n",
    "                             max_df=0.5, \n",
    "                             analyzer='word', \n",
    "                             stop_words='english', \n",
    "                             ngram_range=(1, 2))\n",
    "\n",
    "vectorizer_word.fit(x_train, leave=False)\n",
    "\n",
    "tfidf_matrix_word_train = vectorizer_word.transform(x_train)\n",
    "tfidf_matrix_word_test = vectorizer_word.transform(x_test)"
   ]
  },
  {
   "cell_type": "markdown",
   "metadata": {},
   "source": [
    "After generating  tfidf matrices for both train and test sets, we can build our first model an test it.\n",
    "\n",
    "The tifidf matrices are the features of the logistic regression."
   ]
  },
  {
   "cell_type": "code",
   "execution_count": null,
   "metadata": {},
   "outputs": [],
   "source": [
    "lr_word = LogisticRegression(solver='sag', verbose=2)\n",
    "lr_word.fit(tfidf_matrix_word_train, y_train)"
   ]
  },
  {
   "cell_type": "markdown",
   "metadata": {},
   "source": [
    "Once the model is trained, we apply it on the test data to get predictions. Then we save these values as well as the model on disk."
   ]
  },
  {
   "cell_type": "code",
   "execution_count": null,
   "metadata": {},
   "outputs": [],
   "source": [
    "joblib.dump(lr_word, './models/lr_word_ngram.pkl')\n",
    "\n",
    "y_pred_word = lr_word.predict(tfidf_matrix_word_test)\n",
    "pd.DataFrame(y_pred_word, columns=['y_pred']).to_csv('./predictions/lr_word_ngram.csv', index=False)"
   ]
  },
  {
   "cell_type": "markdown",
   "metadata": {},
   "source": [
    "Let's see what accuracy score we have:"
   ]
  },
  {
   "cell_type": "code",
   "execution_count": 12,
   "metadata": {},
   "outputs": [
    {
     "name": "stdout",
     "output_type": "stream",
     "text": [
      "0.782042246814\n"
     ]
    }
   ],
   "source": [
    "y_pred_word = pd.read_csv('./predictions/lr_word_ngram.csv')\n",
    "print(accuracy_score(y_test, y_pred_word))"
   ]
  },
  {
   "cell_type": "markdown",
   "metadata": {},
   "source": [
    "**78.2% accuracy** for a first model ! Quite not bad. Let's move to the next model."
   ]
  },
  {
   "cell_type": "markdown",
   "metadata": {},
   "source": [
    "# 2 - Bag of word model based on character ngrams"
   ]
  },
  {
   "cell_type": "markdown",
   "metadata": {},
   "source": [
    "We never said that ngrams were for words only. We can apply them at a character level as well."
   ]
  },
  {
   "cell_type": "markdown",
   "metadata": {},
   "source": [
    "<img src='./images/article_5/ngrams_char.jpg' width=\"50%\">\n",
    " "
   ]
  },
  {
   "cell_type": "markdown",
   "metadata": {},
   "source": [
    "You see it coming, right? We're going to apply the same code above to character ngrams instead, and we will go up to 4-grams.\n",
    "\n",
    "This basically means that a sentence like \"I like this movie\" will have these features:\n",
    "\n",
    "I, l, i, k, e, ..., I li,  lik, like, ..., this, ... , is m, s mo, movi, ...\n",
    "===\n",
    "\n",
    "Character ngrams are surprisingly very effective. They can even outperform word tokens in modeling a language task. For example <a href=\"http://www.icsd.aegean.gr/lecturers/stamatatos/papers/ijait-spam.pdf\">spam filters</a> or <a href=\"http://www.martijnwieling.nl/files/groningen_power.pdf\">Native Language Identification</a> heavily rely on character ngrams.\n",
    "\n",
    "Unlike the previous model which learns combinations of words, this model learns combinations of letters, which can handle the morphological makeup of a word.\n",
    "\n",
    "One of the advantages of the character-based representation is the better handling of **misspelled words**.\n",
    "\n",
    "Let's run the same pipeline :"
   ]
  },
  {
   "cell_type": "code",
   "execution_count": null,
   "metadata": {},
   "outputs": [],
   "source": [
    "vectorizer_char = TfidfVectorizer(max_features=40000,\n",
    "                             min_df=5, \n",
    "                             max_df=0.5, \n",
    "                             analyzer='char', \n",
    "                             ngram_range=(1, 4))\n",
    "\n",
    "vectorizer_char.fit(tqdm_notebook(x_train, leave=False));\n",
    "\n",
    "tfidf_matrix_char_train = vectorizer_char.transform(x_train)\n",
    "tfidf_matrix_char_test = vectorizer_char.transform(x_test)\n",
    "\n",
    "lr_char = LogisticRegression(solver='sag', verbose=2)\n",
    "lr_char.fit(tfidf_matrix_char_train, y_train)\n",
    "\n",
    "y_pred_char = lr_char.predict(tfidf_matrix_char_test)\n",
    "joblib.dump(lr_char, './models/lr_char_ngram.pkl')\n",
    "\n",
    "pd.DataFrame(y_pred_char, columns=['y_pred']).to_csv('./predictions/lr_char_ngram.csv', index=False)"
   ]
  },
  {
   "cell_type": "code",
   "execution_count": 13,
   "metadata": {},
   "outputs": [
    {
     "name": "stdout",
     "output_type": "stream",
     "text": [
      "0.80420055491\n"
     ]
    }
   ],
   "source": [
    "y_pred_char = pd.read_csv('./predictions/lr_char_ngram.csv')\n",
    "print(accuracy_score(y_test, y_pred_char))"
   ]
  },
  {
   "cell_type": "markdown",
   "metadata": {},
   "source": [
    "** 80.4% accuracy ! ** Character-ngrams perfom better that word-ngrams."
   ]
  },
  {
   "cell_type": "markdown",
   "metadata": {},
   "source": [
    "# 3 - Bag of word model based on word and character ngrams"
   ]
  },
  {
   "cell_type": "markdown",
   "metadata": {},
   "source": [
    "Character ngram features seem to provide a better accuracy than word ngrams. But what about the combination of the two: word + character ngrams?\n",
    "\n",
    "Let's concatenate the two tfidf matrices we generated and build a new, *hybrid* tfidf matrix.\n",
    "\n",
    "This model will help us learn the indentity of a word and its possible neighbors as well as its morphological structure.\n",
    "\n",
    "These properties are combined."
   ]
  },
  {
   "cell_type": "code",
   "execution_count": null,
   "metadata": {
    "scrolled": true
   },
   "outputs": [],
   "source": [
    "tfidf_matrix_word_char_train =  hstack((tfidf_matrix_word_train, tfidf_matrix_char_train))\n",
    "tfidf_matrix_word_char_test =  hstack((tfidf_matrix_word_test, tfidf_matrix_char_test))\n",
    "\n",
    "lr_word_char = LogisticRegression(solver='sag', verbose=2)\n",
    "lr_word_char.fit(tfidf_matrix_word_char_train, y_train)\n",
    "\n",
    "y_pred_word_char = lr_word_char.predict(tfidf_matrix_word_char_test)\n",
    "joblib.dump(lr_word_char, './models/lr_word_char_ngram.pkl')\n",
    "\n",
    "pd.DataFrame(y_pred_word_char, columns=['y_pred']).to_csv('./predictions/lr_word_char_ngram.csv', index=False)"
   ]
  },
  {
   "cell_type": "code",
   "execution_count": 14,
   "metadata": {},
   "outputs": [
    {
     "name": "stdout",
     "output_type": "stream",
     "text": [
      "0.81423845895\n"
     ]
    }
   ],
   "source": [
    "y_pred_word_char = pd.read_csv('./predictions/lr_word_char_ngram.csv')\n",
    "print(accuracy_score(y_test, y_pred_word_char))"
   ]
  },
  {
   "cell_type": "markdown",
   "metadata": {},
   "source": [
    "Awesome: **81.4% accuracy**. We just increased by one whole unit and outperformed the two previous settings."
   ]
  },
  {
   "cell_type": "markdown",
   "metadata": {},
   "source": [
    "## What can we say about bag-of-word models before we move on?\n",
    "\n",
    "\n",
    "- **Pros**: They can be surprisingly powerful given their simplicity, they are fast to train, and easy to understand.  \n",
    "- **Cons**: Even though ngrams bring some context between words, bag of word models fail in modeling long-term dependencies between words in a sequence.\n"
   ]
  },
  {
   "cell_type": "markdown",
   "metadata": {},
   "source": [
    "Now we're going to dive into deep learning models. The reason deep learning outperform bag of word models is the ability to capture the sequencial dependency between words in a sentence. This has been possible thanks to the invention of special neural network architectures called **Recurrent Neural Networks**.\n",
    "\n",
    "I won't cover the theoretical foundations of RNNs, but here's a <a href=\"http://colah.github.io/posts/2015-08-Understanding-LSTMs/\">link</a> I find worth reading. It's from Cristopher Olah's blog. It details LSTM: Long Short Term Memory. A special kind of RNN. \n",
    "\n",
    "Before starting, we have to setup a deep learning dedicated environment that uses Keras on top of Tensorflow. I honestly tried to run everything on my personal laptop but given the important size of the dataset and the complexity of RNN architectures, this has not been practical. At all.\n",
    "\n",
    "One good option is AWS. I generally use this <a href=\"https://aws.amazon.com/marketplace/pp/B077GCH38C?qid=1527197041958&sr=0-1&ref_=srh_res_product_title\">deep learning AMI</a> on an EC2 <a href=\"https://aws.amazon.com/ec2/instance-types/p2/\">p2.xlarge</a> instance. Amazon AMI are pre-configured VM images, where all the packages (Tensorflow, PyTocrh, Keras, etc. ) are installed. I highly recommend this one which I have been using for a while."
   ]
  },
  {
   "cell_type": "code",
   "execution_count": 16,
   "metadata": {},
   "outputs": [
    {
     "name": "stderr",
     "output_type": "stream",
     "text": [
      "Using TensorFlow backend.\n"
     ]
    }
   ],
   "source": [
    "from keras.preprocessing.text import Tokenizer\n",
    "from keras.preprocessing.text import text_to_word_sequence\n",
    "from keras.preprocessing.sequence import pad_sequences\n",
    "\n",
    "from keras.models import Model\n",
    "from keras.models import Sequential\n",
    "\n",
    "from keras.layers import Input, Dense, Embedding, Conv1D, Conv2D, MaxPooling1D, MaxPool2D\n",
    "from keras.layers import Reshape, Flatten, Dropout, Concatenate\n",
    "from keras.layers import SpatialDropout1D, concatenate\n",
    "from keras.layers import GRU, Bidirectional, GlobalAveragePooling1D, GlobalMaxPooling1D\n",
    "\n",
    "from keras.callbacks import Callback\n",
    "from keras.optimizers import Adam\n",
    "\n",
    "from keras.callbacks import ModelCheckpoint, EarlyStopping\n",
    "from keras.models import load_model\n",
    "from keras.utils.vis_utils import plot_model"
   ]
  },
  {
   "cell_type": "markdown",
   "metadata": {},
   "source": [
    "# 4 - Recurrent Neural Network without pre-trained embedding"
   ]
  },
  {
   "cell_type": "markdown",
   "metadata": {},
   "source": [
    "RNNs may look scary. Although they're complex to understand, they're quite interesting. They encapsulate a very beautiful design that overcomes traditional neural networks' shortcomings that rise when dealing with sequence data: text, time series, videos, DNA sequences, etc.\n",
    "\n",
    "An RNN is a sequence of neural network blocks that are linked to each others like a chain. Each one is passing a message to a successor.\n",
    "\n",
    "Again if you want to dive into the internal mechanics, I highly recommend Colah's <a href=\"http://colah.github.io/posts/2015-08-Understanding-LSTMs/\">blog</a> out of which the diagram below is taken."
   ]
  },
  {
   "cell_type": "markdown",
   "metadata": {},
   "source": [
    "<img src=\"./images/article_5/rnn_unrolled.png\" width=\"100%\">"
   ]
  },
  {
   "cell_type": "markdown",
   "metadata": {},
   "source": [
    "We will process text data, which is a sequence type. The order of words is very important to the meaning. Hopefully RNNs take care of this and can capture long-term dependencies.\n",
    "\n",
    "To use Keras on text data, we firt have to preprocess it. For this, we can use Keras' Tokenizer class. This object takes as argument **num_words** which is the maximum number of words kept after tokenization based on their word frequency."
   ]
  },
  {
   "cell_type": "code",
   "execution_count": 17,
   "metadata": {},
   "outputs": [],
   "source": [
    "MAX_NB_WORDS = 80000\n",
    "tokenizer = Tokenizer(num_words=MAX_NB_WORDS)\n",
    "\n",
    "tokenizer.fit_on_texts(data['cleaned_text'])"
   ]
  },
  {
   "cell_type": "markdown",
   "metadata": {},
   "source": [
    "Once the tokenizer is fitted on the data, we can use it to convert text strings to sequences of numbers.\n",
    "\n",
    "These numbers represent the position of each word in the dictionary (think of it as mapping). \n",
    "\n",
    "Let's see an example:"
   ]
  },
  {
   "cell_type": "code",
   "execution_count": 18,
   "metadata": {},
   "outputs": [
    {
     "data": {
      "text/plain": [
       "'breakfast time happy time'"
      ]
     },
     "execution_count": 18,
     "metadata": {},
     "output_type": "execute_result"
    }
   ],
   "source": [
    "x_train[15]"
   ]
  },
  {
   "cell_type": "markdown",
   "metadata": {},
   "source": [
    "Here's how the tokenizer turns it into a sequence of digits. "
   ]
  },
  {
   "cell_type": "code",
   "execution_count": 19,
   "metadata": {},
   "outputs": [
    {
     "data": {
      "text/plain": [
       "[[530, 50, 119, 50]]"
      ]
     },
     "execution_count": 19,
     "metadata": {},
     "output_type": "execute_result"
    }
   ],
   "source": [
    "tokenizer.texts_to_sequences([x_train[15]])"
   ]
  },
  {
   "cell_type": "markdown",
   "metadata": {},
   "source": [
    "Let's now apply this tokenizer on the train and test sequences:"
   ]
  },
  {
   "cell_type": "code",
   "execution_count": 21,
   "metadata": {},
   "outputs": [],
   "source": [
    "train_sequences = tokenizer.texts_to_sequences(x_train)\n",
    "test_sequences = tokenizer.texts_to_sequences(x_test)"
   ]
  },
  {
   "cell_type": "markdown",
   "metadata": {},
   "source": [
    "Now the tweets are mapped to lists of integers. However, we still cannot stack them together in a matrix since they have different lengths.\n",
    "Hopefully Keras allows to **pad** sequences with **0s** to a maximum length. We'll set this length to 35. (which is the maximum numbers of tokens in the tweets)."
   ]
  },
  {
   "cell_type": "code",
   "execution_count": 22,
   "metadata": {},
   "outputs": [],
   "source": [
    "MAX_LENGTH = 35\n",
    "padded_train_sequences = pad_sequences(train_sequences, maxlen=MAX_LENGTH)\n",
    "padded_test_sequences = pad_sequences(test_sequences, maxlen=MAX_LENGTH)"
   ]
  },
  {
   "cell_type": "code",
   "execution_count": 23,
   "metadata": {},
   "outputs": [
    {
     "data": {
      "text/plain": [
       "array([[    0,     0,     0, ...,  2383,   284,     9],\n",
       "       [    0,     0,     0, ...,    13,    30,    76],\n",
       "       [    0,     0,     0, ...,    19,    37, 45231],\n",
       "       ..., \n",
       "       [    0,     0,     0, ...,    43,   502,  1653],\n",
       "       [    0,     0,     0, ...,     5,  1045,   890],\n",
       "       [    0,     0,     0, ..., 13748, 38750,   154]])"
      ]
     },
     "execution_count": 23,
     "metadata": {},
     "output_type": "execute_result"
    }
   ],
   "source": [
    "padded_train_sequences"
   ]
  },
  {
   "cell_type": "code",
   "execution_count": 24,
   "metadata": {},
   "outputs": [
    {
     "data": {
      "text/plain": [
       "(1417523, 35)"
      ]
     },
     "execution_count": 24,
     "metadata": {},
     "output_type": "execute_result"
    }
   ],
   "source": [
    "padded_train_sequences.shape"
   ]
  },
  {
   "cell_type": "markdown",
   "metadata": {},
   "source": [
    "Now the data is ready to be fed to an RNN.\n",
    "\n",
    "Here are some elements of the architecture I'll be using:\n",
    "\n",
    "- An embedding dimension of 300. This means that each word from the 80000 that we'll be using is mapped to a 300-dimension dense vector (of float numbers). The mapping will adjust throughout the training.\n",
    "\n",
    "- A spatial dropout is applied on the embedding layer to reduce overfitting: it basically looks at batches of 35x300 matrices and randomly drop (set to 0) word vectors (i.e rows) in each matrix. This helps not to focus on specific words in an attempt to generalize well.\n",
    "\n",
    "- A bidirectional Gated Recurrent Unit (GRU): this is the recurrent network part. It's a faster variant of the LSTM architecture. Think of it as a combination of two recurrent networks that scan the text sequence in both directions: from left to right and from right to left. This allows the network, when reading a given word, to understand it by using the context from both past and future information. The GRU takes as parameter a number of units which is the dimension of the output h_t of each network block. We will set this number to 100. And since we are using a bidirectional version of the GRU, the final output per RNN block will be of dimension 200.\n",
    " \n",
    "The output of the bidirectional GRU has the dimension (batch_size, timesteps, units). This means that if we use a typical batch size of 256, this dimension will be (256, 35, 200)\n",
    "\n",
    "- On top of every batch, we apply a global average pooling that consists in averaging the output vectors corresponding to the each time step (i.e the words)\n",
    "\n",
    "- We apply the same operation with max pooling. \n",
    "\n",
    "- We concatenate the outputs of the two previous operations."
   ]
  },
  {
   "cell_type": "code",
   "execution_count": null,
   "metadata": {},
   "outputs": [],
   "source": [
    "def get_simple_rnn_model():\n",
    "    embedding_dim = 300\n",
    "    embedding_matrix = np.random.random((MAX_NB_WORDS, embedding_dim))\n",
    "    \n",
    "    inp = Input(shape=(MAX_LENGTH, ))\n",
    "    x = Embedding(input_dim=MAX_NB_WORDS, output_dim=embedding_dim, input_length=MAX_LENGTH, \n",
    "                  weights=[embedding_matrix], trainable=True)(inp)\n",
    "    x = SpatialDropout1D(0.3)(x)\n",
    "    x = Bidirectional(GRU(100, return_sequences=True))(x)\n",
    "    avg_pool = GlobalAveragePooling1D()(x)\n",
    "    max_pool = GlobalMaxPooling1D()(x)\n",
    "    conc = concatenate([avg_pool, max_pool])\n",
    "    outp = Dense(1, activation=\"sigmoid\")(conc)\n",
    "    \n",
    "    model = Model(inputs=inp, outputs=outp)\n",
    "    model.compile(loss='binary_crossentropy',\n",
    "                  optimizer='adam',\n",
    "                  metrics=['accuracy'])\n",
    "    return model\n",
    "\n",
    "rnn_simple_model = get_simple_rnn_model()"
   ]
  },
  {
   "cell_type": "markdown",
   "metadata": {},
   "source": [
    "Let's look at the different layers of this model:"
   ]
  },
  {
   "cell_type": "code",
   "execution_count": null,
   "metadata": {},
   "outputs": [],
   "source": [
    "plot_model(rnn_simple_model, \n",
    "           to_file='./images/article_5/rnn_simple_model.png', \n",
    "           show_shapes=True, \n",
    "           show_layer_names=True)"
   ]
  },
  {
   "cell_type": "markdown",
   "metadata": {},
   "source": [
    "<img src=\"./images/article_5/rnn_simple_model.png\" width=\"100%\">"
   ]
  },
  {
   "cell_type": "markdown",
   "metadata": {},
   "source": [
    "During the training, model checkpoint is used. It allows to automatically save (on disk) the best models (w.r.t accuracy measure) at the end of each epoch."
   ]
  },
  {
   "cell_type": "code",
   "execution_count": null,
   "metadata": {},
   "outputs": [],
   "source": [
    "filepath=\"./models/rnn_no_embeddings/weights-improvement-{epoch:02d}-{val_acc:.4f}.hdf5\"\n",
    "checkpoint = ModelCheckpoint(filepath, monitor='val_acc', verbose=1, save_best_only=True, mode='max')\n",
    "\n",
    "batch_size = 256\n",
    "epochs = 2\n",
    "\n",
    "history = rnn_simple_model.fit(x=padded_train_sequences, \n",
    "                    y=y_train, \n",
    "                    validation_data=(padded_test_sequences, y_test), \n",
    "                    batch_size=batch_size, \n",
    "                    callbacks=[checkpoint], \n",
    "                    epochs=epochs, \n",
    "                    verbose=1)\n",
    "\n",
    "best_rnn_simple_model = load_model('./models/rnn_no_embeddings/weights-improvement-01-0.8262.hdf5')\n",
    "\n",
    "y_pred_rnn_simple = best_rnn_simple_model.predict(padded_test_sequences, verbose=1, batch_size=2048)\n",
    "\n",
    "y_pred_rnn_simple = pd.DataFrame(y_pred_rnn_simple, columns=['prediction'])\n",
    "y_pred_rnn_simple['prediction'] = y_pred_rnn_simple['prediction'].map(lambda p: 1 if p >= 0.5 else 0)\n",
    "y_pred_rnn_simple.to_csv('./predictions/y_pred_rnn_simple.csv', index=False)"
   ]
  },
  {
   "cell_type": "code",
   "execution_count": 25,
   "metadata": {
    "scrolled": true
   },
   "outputs": [
    {
     "name": "stdout",
     "output_type": "stream",
     "text": [
      "0.826219183127\n"
     ]
    }
   ],
   "source": [
    "y_pred_rnn_simple = pd.read_csv('./predictions/y_pred_rnn_simple.csv')\n",
    "print(accuracy_score(y_test, y_pred_rnn_simple))"
   ]
  },
  {
   "cell_type": "markdown",
   "metadata": {},
   "source": [
    "** 82.6% accuracy ! ** Quite not bad ! We are now performing better than the previous bag-of-word models because we are taking into account the sequence nature of the text. \n",
    "\n",
    "Can we do better?"
   ]
  },
  {
   "cell_type": "markdown",
   "metadata": {},
   "source": [
    "# 5 - Recurrent Neural Network with GloVe pre-trained embeddings"
   ]
  },
  {
   "cell_type": "markdown",
   "metadata": {},
   "source": [
    "In the last model, the embedding matrix was initialized randomly. What if we could use pre-trained word embeddings to intialize it instead?\n",
    "\n",
    "Let's take an example: imagine that you have the word *pizza* in your corpus. Following the previous architecture, you would initialize it to a 300 dimension vector of random float values. This is perfectly fine. You can do that, and this embedding will adjust an evolve throughout training. However, what you could do instead of randomly picking a vector for pizza is using an embedding for this word that has been learnt from another model on a very large corpus. This is a special kind of **transfer learning**.\n",
    "\n",
    "Using the knowledge from an external embedding can enhance the precision of your RNN because it integrates new information (lexical and semantic) about the words, an information that has been trained and distilled on a very large corpus of data. \n",
    "\n",
    "The pre-trained embedding we'll be using is <a href=\"https://nlp.stanford.edu/projects/glove/\">GloVe</a>.\n",
    "\n",
    "Official documentation: *GloVe is an unsupervised learning algorithm for obtaining vector representations for words. Training is performed on aggregated global word-word co-occurrence statistics from a corpus, and the resulting representations showcase interesting linear substructures of the word vector space.* \n",
    "\n",
    "The GloVe embeddings I'll be using are trained on a ** very large ** common internet crawl that includes:\n",
    "\n",
    "- 840 Billion tokens, \n",
    "- 2.2 million size vocab\n",
    "\n",
    "The zipped file is 2.03 GB download. Beware, this file cannot be easily loaded on a standard laptop.\n",
    "\n",
    "The dimension of GloVe embeddings is 300. "
   ]
  },
  {
   "cell_type": "markdown",
   "metadata": {},
   "source": [
    "GloVe embeddings come in raw text data, where each line contains a word and 300 floats (the corresponding embedding). So the first thing to do is convert this structure to a python dictionary."
   ]
  },
  {
   "cell_type": "code",
   "execution_count": null,
   "metadata": {},
   "outputs": [],
   "source": [
    "def get_coefs(word, *arr):\n",
    "    try:\n",
    "        return word, np.asarray(arr, dtype='float32')\n",
    "    except:\n",
    "        return None, None\n",
    "    \n",
    "embeddings_index = dict(get_coefs(*o.strip().split()) for o in tqdm_notebook(open('./embeddings/glove.840B.300d.txt')))\n",
    "\n",
    "embed_size=300\n",
    "for k in tqdm_notebook(list(embeddings_index.keys())):\n",
    "    v = embeddings_index[k]\n",
    "    try:\n",
    "        if v.shape != (embed_size, ):\n",
    "            embeddings_index.pop(k)\n",
    "    except:\n",
    "        pass\n",
    "            \n",
    "embeddings_index.pop(None)"
   ]
  },
  {
   "cell_type": "markdown",
   "metadata": {},
   "source": [
    "Once the embedding index in created, we extract all the vectors, we stack them together and compute their mean and standard deviation. "
   ]
  },
  {
   "cell_type": "code",
   "execution_count": null,
   "metadata": {},
   "outputs": [],
   "source": [
    "values = list(embeddings_index.values())\n",
    "all_embs = np.stack(values)\n",
    "\n",
    "emb_mean, emb_std = all_embs.mean(), all_embs.std()"
   ]
  },
  {
   "cell_type": "markdown",
   "metadata": {},
   "source": [
    "Now we generate the embedding matrix. We will initialize it following a normal distribution of mean=emb_mean and std=emb_std.\n",
    "\n",
    "Then we go through the 80000 words of our corpus. For each word, if it is contained in GloVe, we pick its embedding. \n",
    "\n",
    "Otherwise, we pass."
   ]
  },
  {
   "cell_type": "code",
   "execution_count": null,
   "metadata": {},
   "outputs": [],
   "source": [
    "word_index = tokenizer.word_index\n",
    "nb_words = MAX_NB_WORDS\n",
    "embedding_matrix = np.random.normal(emb_mean, emb_std, (nb_words, embed_size))\n",
    "\n",
    "oov = 0\n",
    "for word, i in tqdm_notebook(word_index.items()):\n",
    "    if i >= MAX_NB_WORDS: continue\n",
    "    embedding_vector = embeddings_index.get(word)\n",
    "    if embedding_vector is not None:\n",
    "        embedding_matrix[i] = embedding_vector\n",
    "    else:\n",
    "        oov += 1\n",
    "\n",
    "print(oov)\n",
    "\n",
    "def get_rnn_model_with_glove_embeddings():\n",
    "    embedding_dim = 300\n",
    "    inp = Input(shape=(MAX_LENGTH, ))\n",
    "    x = Embedding(MAX_NB_WORDS, embedding_dim, weights=[embedding_matrix], input_length=MAX_LENGTH, trainable=True)(inp)\n",
    "    x = SpatialDropout1D(0.3)(x)\n",
    "    x = Bidirectional(GRU(100, return_sequences=True))(x)\n",
    "    avg_pool = GlobalAveragePooling1D()(x)\n",
    "    max_pool = GlobalMaxPooling1D()(x)\n",
    "    conc = concatenate([avg_pool, max_pool])\n",
    "    outp = Dense(1, activation=\"sigmoid\")(conc)\n",
    "    \n",
    "    model = Model(inputs=inp, outputs=outp)\n",
    "    model.compile(loss='binary_crossentropy',\n",
    "                  optimizer='adam',\n",
    "                  metrics=['accuracy'])\n",
    "    return model\n",
    "\n",
    "rnn_model_with_embeddings = get_rnn_model_with_glove_embeddings()\n",
    "\n",
    "filepath=\"./models/rnn_with_embeddings/weights-improvement-{epoch:02d}-{val_acc:.4f}.hdf5\"\n",
    "checkpoint = ModelCheckpoint(filepath, monitor='val_acc', verbose=1, save_best_only=True, mode='max')\n",
    "\n",
    "batch_size = 256\n",
    "epochs = 4\n",
    "\n",
    "history = rnn_model_with_embeddings.fit(x=padded_train_sequences, \n",
    "                    y=y_train, \n",
    "                    validation_data=(padded_test_sequences, y_test), \n",
    "                    batch_size=batch_size, \n",
    "                    callbacks=[checkpoint], \n",
    "                    epochs=epochs, \n",
    "                    verbose=1)\n",
    "\n",
    "best_rnn_model_with_glove_embeddings = load_model('./models/rnn_with_embeddings/weights-improvement-03-0.8372.hdf5')\n",
    "\n",
    "y_pred_rnn_with_glove_embeddings = best_rnn_model_with_glove_embeddings.predict(\n",
    "    padded_test_sequences, verbose=1, batch_size=2048)\n",
    "\n",
    "y_pred_rnn_with_glove_embeddings = pd.DataFrame(y_pred_rnn_with_glove_embeddings, columns=['prediction'])\n",
    "y_pred_rnn_with_glove_embeddings['prediction'] = y_pred_rnn_with_glove_embeddings['prediction'].map(lambda p: \n",
    "                                                                                                    1 if p >= 0.5 else 0)\n",
    "y_pred_rnn_with_glove_embeddings.to_csv('./predictions/y_pred_rnn_with_glove_embeddings.csv', index=False)"
   ]
  },
  {
   "cell_type": "code",
   "execution_count": 26,
   "metadata": {},
   "outputs": [
    {
     "name": "stdout",
     "output_type": "stream",
     "text": [
      "0.837203100893\n"
     ]
    }
   ],
   "source": [
    "y_pred_rnn_with_glove_embeddings = pd.read_csv('./predictions/y_pred_rnn_with_glove_embeddings.csv')\n",
    "print(accuracy_score(y_test, y_pred_rnn_with_glove_embeddings))"
   ]
  },
  {
   "cell_type": "markdown",
   "metadata": {},
   "source": [
    "**83.7% accuracy ! ** Transfer learning from external word embeddings works! For the rest of the tutorial, I'll be using GloVe embeddings in the embedding matrix."
   ]
  },
  {
   "cell_type": "markdown",
   "metadata": {},
   "source": [
    "# 6 - Multi-channel Convolutional Neural Network"
   ]
  },
  {
   "cell_type": "markdown",
   "metadata": {},
   "source": [
    "In this section, I'm experimenting a convolutional neural network architecture I read about <a href=\"http://www.wildml.com/2015/11/understanding-convolutional-neural-networks-for-nlp/\">here</a>. CNNs are generally used in computer vision. However, we've recently started applying them to NLP tasks and the results were promising. \n",
    "\n",
    "Let's briefly see what happens when we use convnets on text data. To explain this, I'm borrowing this famous diagram (below) from wildm.com (a very good blog!)\n",
    "\n",
    "Let's consider the example it used: I like this movie very much ! (7 tokens)\n",
    "\n",
    "- The embedding dimension of each word is 5. Therefore this sentence is represented by a matrix of dimension (7,5). You can think of it as an \"image\" (~ a matrix of digits/floats). \n",
    "- 6 Filters, 2 of size (2, 5) (3, 5) and (4, 5) are applied on this matrix. The particularity of these filters is that they are not square matrices and their width is equal to the embedding matrix's width. So the result of each convolution will be a column vector.\n",
    "\n",
    "- Each column vector resulting from the convolution is subsampled using a maxpooling operation.\n",
    "\n",
    "- The results of the maxpooling operations are concatenated in a final vector that is passed to a softmax function for classification.\n",
    "\n",
    "\n",
    "What is the intuition behind ?\n",
    "==\n",
    "\n",
    "The result of each convolution will fire when a special pattern is detected. By varying the size of the kernels and concatenating their outputs, you're allowing yourself to detect patterns of multiples sizes (2, 3, or 5 adjacent words).\n",
    "\n",
    "Patterns could be expressions (word ngrams?) like \"I hate\", \"very good\" and therefore CNNs can identify them in the sentence regardless of their position."
   ]
  },
  {
   "cell_type": "markdown",
   "metadata": {},
   "source": [
    "<img src=\"./images/article_5/cnn_text.png\" width=\"75%\">"
   ]
  },
  {
   "cell_type": "code",
   "execution_count": null,
   "metadata": {},
   "outputs": [],
   "source": [
    "def get_cnn_model():\n",
    "    embedding_dim = 300\n",
    "    \n",
    "    filter_sizes = [2, 3, 5]\n",
    "    num_filters = 256\n",
    "    drop = 0.3\n",
    "\n",
    "    inputs = Input(shape=(MAX_LENGTH,), dtype='int32')\n",
    "    embedding = Embedding(input_dim=MAX_NB_WORDS,\n",
    "                                output_dim=embedding_dim,\n",
    "                                weights=[embedding_matrix],\n",
    "                                input_length=MAX_LENGTH,\n",
    "                                trainable=True)(inputs)\n",
    "\n",
    "    reshape = Reshape((MAX_LENGTH, embedding_dim, 1))(embedding)\n",
    "    conv_0 = Conv2D(num_filters, \n",
    "                    kernel_size=(filter_sizes[0], embedding_dim), \n",
    "                    padding='valid', kernel_initializer='normal', \n",
    "                    activation='relu')(reshape)\n",
    "\n",
    "    conv_1 = Conv2D(num_filters, \n",
    "                    kernel_size=(filter_sizes[1], embedding_dim), \n",
    "                    padding='valid', kernel_initializer='normal', \n",
    "                    activation='relu')(reshape)\n",
    "    conv_2 = Conv2D(num_filters, \n",
    "                    kernel_size=(filter_sizes[2], embedding_dim), \n",
    "                    padding='valid', kernel_initializer='normal', \n",
    "                    activation='relu')(reshape)\n",
    "\n",
    "    maxpool_0 = MaxPool2D(pool_size=(MAX_LENGTH - filter_sizes[0] + 1, 1), \n",
    "                          strides=(1,1), padding='valid')(conv_0)\n",
    "\n",
    "    maxpool_1 = MaxPool2D(pool_size=(MAX_LENGTH - filter_sizes[1] + 1, 1), \n",
    "                          strides=(1,1), padding='valid')(conv_1)\n",
    "\n",
    "    maxpool_2 = MaxPool2D(pool_size=(MAX_LENGTH - filter_sizes[2] + 1, 1), \n",
    "                          strides=(1,1), padding='valid')(conv_2)\n",
    "    concatenated_tensor = Concatenate(axis=1)(\n",
    "        [maxpool_0, maxpool_1, maxpool_2])\n",
    "    flatten = Flatten()(concatenated_tensor)\n",
    "    dropout = Dropout(drop)(flatten)\n",
    "    output = Dense(units=1, activation='sigmoid')(dropout)\n",
    "\n",
    "    model = Model(inputs=inputs, outputs=output)\n",
    "    adam = Adam(lr=1e-4, beta_1=0.9, beta_2=0.999, epsilon=1e-08, decay=0.0)\n",
    "\n",
    "    model.compile(optimizer=adam, loss='binary_crossentropy', metrics=['accuracy'])\n",
    "    \n",
    "    return model\n",
    "\n",
    "cnn_model_multi_channel = get_cnn_model()\n",
    "\n",
    "plot_model(cnn_model_multi_channel, \n",
    "           to_file='./images/article_5/cnn_model_multi_channel.png', \n",
    "           show_shapes=True, \n",
    "           show_layer_names=True)"
   ]
  },
  {
   "cell_type": "markdown",
   "metadata": {},
   "source": [
    "<img src=\"./images/article_5/cnn_model_multi_channel.png\" width=\"100%\">"
   ]
  },
  {
   "cell_type": "code",
   "execution_count": null,
   "metadata": {},
   "outputs": [],
   "source": [
    "filepath=\"./models/cnn_multi_channel/weights-improvement-{epoch:02d}-{val_acc:.4f}.hdf5\"\n",
    "checkpoint = ModelCheckpoint(filepath, monitor='val_acc', verbose=1, save_best_only=True, mode='max')\n",
    "\n",
    "batch_size = 256\n",
    "epochs = 4\n",
    "\n",
    "history = cnn_model_multi_channel.fit(x=padded_train_sequences, \n",
    "                    y=y_train, \n",
    "                    validation_data=(padded_test_sequences, y_test), \n",
    "                    batch_size=batch_size, \n",
    "                    callbacks=[checkpoint], \n",
    "                    epochs=epochs, \n",
    "                    verbose=1)\n",
    "\n",
    "best_cnn_model = load_model('./models/cnn_multi_channel/weights-improvement-04-0.8264.hdf5')\n",
    "\n",
    "y_pred_cnn_multi_channel = best_cnn_model.predict(padded_test_sequences, verbose=1, batch_size=2048)\n",
    "\n",
    "y_pred_cnn_multi_channel = pd.DataFrame(y_pred_cnn_multi_channel, columns=['prediction'])\n",
    "y_pred_cnn_multi_channel['prediction'] = y_pred_cnn_multi_channel['prediction'].map(lambda p: 1 if p >= 0.5 else 0)\n",
    "y_pred_cnn_multi_channel.to_csv('./predictions/y_pred_cnn_multi_channel.csv', index=False)"
   ]
  },
  {
   "cell_type": "code",
   "execution_count": 27,
   "metadata": {},
   "outputs": [
    {
     "name": "stdout",
     "output_type": "stream",
     "text": [
      "0.826409655689\n"
     ]
    }
   ],
   "source": [
    "y_pred_cnn_multi_channel = pd.read_csv('./predictions/y_pred_cnn_multi_channel.csv')\n",
    "print(accuracy_score(y_test, y_pred_cnn_multi_channel))"
   ]
  },
  {
   "cell_type": "markdown",
   "metadata": {},
   "source": [
    "** 82.6% accuracy **, we're less precise than RNNs but still better than BOW models. Maybe an investigation of the hyperparameters (number of filters, and size) gives an edge?"
   ]
  },
  {
   "cell_type": "markdown",
   "metadata": {},
   "source": [
    "# 7 - Recurrent + Convolutional neural network"
   ]
  },
  {
   "cell_type": "markdown",
   "metadata": {},
   "source": [
    "RNNs are powerful. Howerer, some people found out that they could maek them more robust by adding a convolutional layer on top of the reccurrent layer.\n",
    "\n",
    "The rational behind is that RNNs allow you to embed the information about the sequence and previous words and CNN takes this embedding and extract local features from it. Having these two layers working together is a winning combination.\n",
    "\n",
    "More about this <a href=\"http://konukoii.com/blog/2018/02/19/twitter-sentiment-analysis-using-combined-lstm-cnn-models/\">here</a>."
   ]
  },
  {
   "cell_type": "code",
   "execution_count": null,
   "metadata": {},
   "outputs": [],
   "source": [
    "def get_rnn_cnn_model():\n",
    "    embedding_dim = 300\n",
    "    inp = Input(shape=(MAX_LENGTH, ))\n",
    "    x = Embedding(MAX_NB_WORDS, embedding_dim, weights=[embedding_matrix], input_length=MAX_LENGTH, trainable=True)(inp)\n",
    "    x = SpatialDropout1D(0.3)(x)\n",
    "    x = Bidirectional(GRU(100, return_sequences=True))(x)\n",
    "    x = Conv1D(64, kernel_size = 2, padding = \"valid\", kernel_initializer = \"he_uniform\")(x)\n",
    "    avg_pool = GlobalAveragePooling1D()(x)\n",
    "    max_pool = GlobalMaxPooling1D()(x)\n",
    "    conc = concatenate([avg_pool, max_pool])\n",
    "    outp = Dense(1, activation=\"sigmoid\")(conc)\n",
    "    \n",
    "    model = Model(inputs=inp, outputs=outp)\n",
    "    model.compile(loss='binary_crossentropy',\n",
    "                  optimizer='adam',\n",
    "                  metrics=['accuracy'])\n",
    "    return model\n",
    "\n",
    "rnn_cnn_model = get_rnn_cnn_model()\n",
    "\n",
    "plot_model(rnn_cnn_model, to_file='./images/article_5/rnn_cnn_model.png', show_shapes=True, show_layer_names=True)"
   ]
  },
  {
   "cell_type": "markdown",
   "metadata": {},
   "source": [
    "<img src=\"./images/article_5/rnn_cnn_model.png\" width=\"100%\">"
   ]
  },
  {
   "cell_type": "code",
   "execution_count": null,
   "metadata": {},
   "outputs": [],
   "source": [
    "filepath=\"./models/rnn_cnn/weights-improvement-{epoch:02d}-{val_acc:.4f}.hdf5\"\n",
    "checkpoint = ModelCheckpoint(filepath, monitor='val_acc', verbose=1, save_best_only=True, mode='max')\n",
    "\n",
    "batch_size = 256\n",
    "epochs = 4\n",
    "\n",
    "history = rnn_cnn_model.fit(x=padded_train_sequences, \n",
    "                    y=y_train, \n",
    "                    validation_data=(padded_test_sequences, y_test), \n",
    "                    batch_size=batch_size, \n",
    "                    callbacks=[checkpoint], \n",
    "                    epochs=epochs, \n",
    "                    verbose=1)\n",
    "\n",
    "best_rnn_cnn_model = load_model('./models/rnn_cnn/weights-improvement-03-0.8379.hdf5')\n",
    "\n",
    "y_pred_rnn_cnn = best_rnn_cnn_model.predict(padded_test_sequences, verbose=1, batch_size=2048)\n",
    "\n",
    "y_pred_rnn_cnn = pd.DataFrame(y_pred_rnn_cnn, columns=['prediction'])\n",
    "y_pred_rnn_cnn['prediction'] = y_pred_rnn_cnn['prediction'].map(lambda p: 1 if p >= 0.5 else 0)\n",
    "y_pred_rnn_cnn.to_csv('./predictions/y_pred_rnn_cnn.csv', index=False)"
   ]
  },
  {
   "cell_type": "code",
   "execution_count": 28,
   "metadata": {},
   "outputs": [
    {
     "name": "stdout",
     "output_type": "stream",
     "text": [
      "0.837882453033\n"
     ]
    }
   ],
   "source": [
    "y_pred_rnn_cnn = pd.read_csv('./predictions/y_pred_rnn_cnn.csv')\n",
    "print(accuracy_score(y_test, y_pred_rnn_cnn))"
   ]
  },
  {
   "cell_type": "markdown",
   "metadata": {},
   "source": [
    "**83.8% accuracy .** Best model so far."
   ]
  },
  {
   "cell_type": "markdown",
   "metadata": {},
   "source": [
    "# 8 -  Conclusion"
   ]
  },
  {
   "cell_type": "markdown",
   "metadata": {},
   "source": [
    "We've run seven different models. Let's see how they compare:"
   ]
  },
  {
   "cell_type": "code",
   "execution_count": null,
   "metadata": {},
   "outputs": [],
   "source": [
    "import seaborn as sns\n",
    "from sklearn.metrics import roc_auc_score\n",
    "sns.set_style(\"whitegrid\")\n",
    "sns.set_palette(\"pastel\")\n",
    "\n",
    "predictions_files = os.listdir('./predictions/')\n",
    "\n",
    "predictions_dfs = []\n",
    "for f in predictions_files:\n",
    "    aux = pd.read_csv('./predictions/{0}'.format(f))\n",
    "    aux.columns = [f.strip('.csv')]\n",
    "    predictions_dfs.append(aux)\n",
    "\n",
    "predictions = pd.concat(predictions_dfs, axis=1)\n",
    "\n",
    "scores = {}\n",
    "\n",
    "for column in tqdm_notebook(predictions.columns, leave=False):\n",
    "    if column != 'y_true':\n",
    "        s = accuracy_score(predictions['y_true'].values, predictions[column].values)\n",
    "        scores[column] = s\n",
    "\n",
    "scores = pd.DataFrame([scores], index=['accuracy'])\n",
    "\n",
    "mapping_name = dict(zip(list(scores.columns), \n",
    "                        ['Char ngram + LR', '(Word + Char ngram) + LR', \n",
    "                           'Word ngram + LR', 'CNN (multi channel)',\n",
    "                           'RNN + CNN', 'RNN no embd.', 'RNN + GloVe embds.']))\n",
    "\n",
    "scores = scores.rename(columns=mapping_name)\n",
    "scores = scores[['Word ngram + LR', 'Char ngram + LR', '(Word + Char ngram) + LR',\n",
    "                'RNN no embd.', 'RNN + GloVe embds.', 'CNN (multi channel)',\n",
    "                'RNN + CNN']]\n",
    "\n",
    "scores = scores.T\n",
    "\n",
    "ax = scores['accuracy'].plot(kind='bar', \n",
    "                             figsize=(16, 5), \n",
    "                             ylim=(scores.accuracy.min()*0.97, scores.accuracy.max() * 1.01), \n",
    "                             color='red', \n",
    "                             alpha=0.75, \n",
    "                             rot=45, \n",
    "                             fontsize=13)\n",
    "ax.set_title('Comparative accuracy of the different models')\n",
    "\n",
    "for i in ax.patches:\n",
    "    ax.annotate(str(round(i.get_height(), 3)), \n",
    "                (i.get_x() + 0.1, i.get_height() * 1.002), color='dimgrey', fontsize=14)"
   ]
  },
  {
   "cell_type": "markdown",
   "metadata": {},
   "source": [
    " ![](./images/article_5/benchmark.png)"
   ]
  },
  {
   "cell_type": "markdown",
   "metadata": {},
   "source": [
    "Let's quickly check the correlations between the predictions of the models."
   ]
  },
  {
   "cell_type": "code",
   "execution_count": null,
   "metadata": {},
   "outputs": [],
   "source": [
    "fig = plt.figure(figsize=(10, 5))\n",
    "sns.heatmap(predictions.drop('y_true', axis=1).corr(method='kendall'), cmap=\"Blues\", annot=True);"
   ]
  },
  {
   "cell_type": "markdown",
   "metadata": {},
   "source": [
    " ![](./images/article_5/heatmap.png)"
   ]
  },
  {
   "cell_type": "markdown",
   "metadata": {},
   "source": [
    "# Conclusion\n",
    "\n",
    "Here are rapid findings I think are worth sharing:\n",
    "\n",
    "- Bag of word models using character ngrams can be very efficient. **Do not underestimate them!**. They are relatively cheap to compute, and also easy to interpret.\n",
    "\n",
    "- RNNs are powerful. However, you can sometimes pump them with external pre-trained embeddings like GloVe. You can also use other popular embeddings such as word2vec and FastText.\n",
    "\n",
    "- CNNs can be applied to text. They have the main advantage of being very fast to train. Besides, their ability to extract local features out of text is particularly interesting to nlp tasks.\n",
    "\n",
    "- RNNs and CNNs can be stacked together to take advantags of both architectures.\n",
    "\n",
    "This post was quite long, I hope you've enjoyed it. Don't hesitate to comment if you have any question or recommendation."
   ]
  },
  {
   "cell_type": "markdown",
   "metadata": {},
   "source": [
    "# Some helpful links to explore\n",
    "\n",
    "Here are great resources I used when writing this post:\n",
    "\n",
    "- http://colah.github.io/posts/2015-08-Understanding-LSTMs/\n",
    "- http://wildml.com/2015/11/understanding-convolutional-neural-networks-for-nlp/"
   ]
  }
 ],
 "metadata": {
  "anaconda-cloud": {},
  "kernelspec": {
   "display_name": "Python [conda env:tf]",
   "language": "python",
   "name": "conda-env-tf-py"
  },
  "language_info": {
   "codemirror_mode": {
    "name": "ipython",
    "version": 3
   },
   "file_extension": ".py",
   "mimetype": "text/x-python",
   "name": "python",
   "nbconvert_exporter": "python",
   "pygments_lexer": "ipython3",
   "version": "3.5.5"
  },
  "widgets": {
   "state": {
    "dc45800408dc4d6680485931afacfa80": {
     "views": [
      {
       "cell_index": 4
      }
     ]
    }
   },
   "version": "1.2.0"
  }
 },
 "nbformat": 4,
 "nbformat_minor": 2
}
