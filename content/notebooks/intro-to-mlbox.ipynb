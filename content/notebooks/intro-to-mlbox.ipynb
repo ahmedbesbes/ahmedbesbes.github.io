{
 "cells": [
  {
   "cell_type": "markdown",
   "metadata": {},
   "source": [
    "Today's post is very special. It's written in collaboration with <a href=\"https://www.linkedin.com/in/axel-de-romblay-6444a990/\">Axel de Romblay</a> the author of the MLBox Auto-ML package that has gained a lot of popularity these last years. \n",
    "\n",
    "If you haven't heard about this library, go and check it out on <a href=\"https://github.com/AxeldeRomblay/MLBox\">github</a>: It encompasses interesting features, it's gaining in maturity and is now under active development.\n",
    "\n",
    "<img src=\"./images/article_10/stars.png\">\n",
    "\n",
    "<img src=\"./images/article_10/mlbox.png\">\n",
    "\n",
    "In this post, we'll show you how you can easily use it to train an automated machine learning pipeline for a classification problem. It'll start off by loading and cleaning the data, removing drift, launching a strong pipeline of accelerated optimization and generating predictions.\n",
    "\n",
    "# 0 - Introduction to Auto-ML \n",
    "\n",
    "MLBox has been presented to many machine learning Meetups. You can check one of the slides here. It's a good start to have an overview of the library of more generally of the AutoML concept."
   ]
  },
  {
   "cell_type": "markdown",
   "metadata": {
    "colab_type": "text",
    "id": "Somk6zZMWczy"
   },
   "source": [
    "# 1 - Downloading the train and test datasets\n",
    "\n",
    "For the purpose of this notebook, we'll be solving the famous Titanic Kaggle <a href=\"https://www.kaggle.com/c/titanic/\">challenge</a> which consists in predicting the survival of passengers based on their attributes (Sex, Age, Name, etc). \n",
    "\n",
    "If you're not familiar with this competition you can check this <a href=\"https://ahmedbesbes.com/how-to-score-08134-in-titanic-kaggle-challenge.html\">article</a>.\n",
    "\n",
    "Let's now download the data:\n",
    "\n",
    "### From Kaggle if you have an account\n",
    "\n",
    "If you have a Kaggle account you can generate an API token right here on your profile page:\n",
    "\n",
    "\n",
    "<img src=\"./images/article_10/kaggle-api-key.png\" width=\"75%\">\n",
    "\n",
    "    \n",
    "Once the API token is generated, you'll have a kaggle.json downloaded on your system that contains your usename and key.\n",
    "\n",
    "- If you're on Unix-based OS, place this file in: ~/.kaggle/ and then\n",
    "\n",
    "```shell\n",
    "chmod 600 ~/.kaggle/kaggle.json\n",
    "```\n",
    "\n",
    "- If you're on a Windows machine:\n",
    "\n",
    "```bash\n",
    "export KAGGLE_USERNAME=<your-username>\n",
    "export KAGGLE_KEY=<your-key>\n",
    "```\n",
    "\n",
    "\n",
    "### From the internet:\n",
    "\n",
    "Make sure you have wget installed: ```pip install wget```\n",
    "\n",
    "```python\n",
    "\n",
    "import wget\n",
    "\n",
    "train_url = 'https://storage.googleapis.com/kaggle-competitions-data/kaggle/3136/train.csv?GoogleAccessId=web-data@kaggle-161607.iam.gserviceaccount.com&Expires=1570183347&Signature=O7hakdmzfjCnK6so6Yj%2B4TEscq4YD9smNLasKOcBK4k2A737DH3gwcDU5LMZwLH20rjrhrk5vKueJh5EDM8IX5X0l0rDZ4f%2BosbFU%2FHig5s5MetsPMYDqEZyYRq6BRWd4kazaeHnoEjiDnvmHf2a0eQ9%2FC7A9TX72MwVi50MFyD%2F3MXjE7NX0ciXMc1RQVV5fpr5u1qJ98yBaJZS1CWWyXx5D1Q3U5VfvcIPGds%2B3XIYko9MIbd4wnk2g4K3rJijAyTnjoi1sVhyyms0buyxXNQH4eQ3OdUW6EbB1NzHv9F93ZTMUKoY76hAlKNdpFCE%2FpD8YW22hfHEiifUhipmtA%3D%3D'\n",
    "train_file = wget.download(train_url)\n",
    "\n",
    "test_url = 'https://storage.googleapis.com/kaggle-competitions-data/kaggle/3136/test.csv?GoogleAccessId=web-data@kaggle-161607.iam.gserviceaccount.com&Expires=1570183224&Signature=ppvKN7j%2BdPC5z5G4HARm%2FaLpkBIfF%2F1%2BbFR9Zwcy81aY%2FTPtoKS8ZZDa2RzmcFfa2C4nm7FGLM%2B70cl742KUjWTDXqEWSyYdvIXabP82LRXJ6UGKGixmoGLcAaNhKT%2FCQrmYmhcrrUoy%2BFj6Ik%2BHtg9vWKaAG6zZAGP3l1uCRQSMrThKBkV6nO1cpeJ%2F8JoeB2DBNdjL%2FnoT7kj2LS2U1pyZjhD3HeIwpBCkbZ6Cdt%2BrXT10YYkrc7tk%2BWHIsIwINg4oC681YGwL99N0IQAkNbxffx4cU7tWwZAHZ6JIdJzohsN8b6QifAMnV5oqc21ad32I5LAz5g9p9PlSgLCzmw%3D%3D'\n",
    "test_file = wget.download(test_url)\n",
    "```\n",
    "\n",
    "Then place train.csv and test.csv in ```data``` folder at the root of the project."
   ]
  },
  {
   "cell_type": "markdown",
   "metadata": {
    "colab_type": "text",
    "id": "bPT73nnX1Kt6"
   },
   "source": [
    "# 2 - Environment setup and installing MLBox from PyPI"
   ]
  },
  {
   "cell_type": "markdown",
   "metadata": {},
   "source": [
    "Creating a conda virtual environment is recommended because MLBox encompasses several dependencies that might mess with your current libraries. Having a clean virtual environment is the right solution and if anything goes wrong you can remove it without impacting your system.\n",
    "\n",
    "You can create it using conda or pyenv. I'm a conda user so I'll use conda.\n",
    "\n",
    "```shell \n",
    "conda create -n automl python=3.7\n",
    "```\n",
    "This creates an environment named **automl** that has python 3.7 preconfigured on it.\n",
    "\n",
    "If you're on OSX like me, you'll have to install **OpenMP** (Open Multi-Processing), an efficient implementation of multithreading, via brew:\n",
    "\n",
    "```shell \n",
    "(base) brew install libomp\n",
    "```\n",
    "\n",
    "Now activate automl and install MLBox directly from PyPI:\n",
    "\n",
    "```shell \n",
    "(base) source activate automl\n",
    "(automl) pip install mlbox\n",
    "```\n",
    "<img src=\"./images/article_10/dependencies.png\">\n",
    "\n",
    "As you see, mlbox has quite a lot of dependencies such as scikit-learn, pandas, etc. That's why we created an empty virtual environment.\n",
    "\n",
    "\n",
    "### [Optional] : accessing the automl kernel from Jupyter.\n",
    "\n",
    "If you'd like to use jupyter notebook on this environment without activating it but by selecting the kernel only from the base jupyter dropdown list; you'll have to install **ipykernel**:\n",
    "\n",
    "```shell \n",
    "(automl) conda install ipykernel\n",
    "```\n",
    "\n",
    "<img src=\"./images/article_10/ipykernel.png\" width=\"50%\">\n",
    "\n",
    "**Now you're good to go!**"
   ]
  },
  {
   "cell_type": "markdown",
   "metadata": {
    "colab_type": "text",
    "id": "baLtyxGEWzaP"
   },
   "source": [
    "# 3 - Testing MLBox: from data ingestion to model building"
   ]
  },
  {
   "cell_type": "markdown",
   "metadata": {},
   "source": [
    "Now we're going to test and run MLBox to quickly build a model to solve the Kaggle Titanic Challenge.\n",
    "\n",
    "For more information about the documentation of the package and the API you can visit the following links:\n",
    "\n",
    "- The official repository: https://github.com/AxeldeRomblay/MLBox\n",
    "- The official documentation: https://mlbox.readthedocs.io/en/latest/"
   ]
  },
  {
   "cell_type": "markdown",
   "metadata": {
    "colab_type": "text",
    "id": "Gr-OfE4V1SV6"
   },
   "source": [
    "## Importing MLBox"
   ]
  },
  {
   "cell_type": "code",
   "execution_count": 1,
   "metadata": {},
   "outputs": [
    {
     "data": {
      "text/html": [
       "<style>.prompt{width: 0px; min-width: 0px; visibility: collapse}</style>"
      ],
      "text/plain": [
       "<IPython.core.display.HTML object>"
      ]
     },
     "metadata": {},
     "output_type": "display_data"
    },
    {
     "name": "stderr",
     "output_type": "stream",
     "text": [
      "Using TensorFlow backend.\n"
     ]
    },
    {
     "name": "stdout",
     "output_type": "stream",
     "text": [
      "CPU times: user 2.42 s, sys: 740 ms, total: 3.16 s\n",
      "Wall time: 4.04 s\n"
     ]
    }
   ],
   "source": [
    "%%time\n",
    "\n",
    "from IPython.core.display import display, HTML\n",
    "display(HTML('<style>.prompt{width: 0px; min-width: 0px; visibility: collapse}</style>'))\n",
    "\n",
    "import warnings\n",
    "warnings.filterwarnings(\"ignore\")\n",
    "\n",
    "from mlbox.preprocessing.reader import Reader\n",
    "from mlbox.preprocessing.drift_thresholder import Drift_thresholder\n",
    "from mlbox.optimisation.optimiser import Optimiser \n",
    "from mlbox.prediction.predictor import Predictor"
   ]
  },
  {
   "cell_type": "markdown",
   "metadata": {
    "colab_type": "text",
    "id": "_cpuG-VI1X4r"
   },
   "source": [
    "## Inputs to MLBox "
   ]
  },
  {
   "cell_type": "markdown",
   "metadata": {},
   "source": [
    "If you're having a train and a test set like in any Kaggle competition, you can feed these two paths directly to MLBox as well as the target name. \n",
    "\n",
    "Otherwise, if fed a train set only, MLBox creates a test set."
   ]
  },
  {
   "cell_type": "code",
   "execution_count": 2,
   "metadata": {
    "colab": {},
    "colab_type": "code",
    "id": "NObc-v7UqZOj"
   },
   "outputs": [],
   "source": [
    "paths = [\"./data/train.csv\", \"./data/test.csv\"] \n",
    "target_name = \"Survived\""
   ]
  },
  {
   "cell_type": "markdown",
   "metadata": {
    "colab_type": "text",
    "id": "Y3N7OEps1dyK"
   },
   "source": [
    "## Reading and preprocessing"
   ]
  },
  {
   "cell_type": "markdown",
   "metadata": {
    "colab_type": "text",
    "id": "C-teLhDHnUSP"
   },
   "source": [
    "The Reader class of MLBox is in charge of preparing the data.\n",
    "\n",
    "It basically provides methods and utilities to:\n",
    "\n",
    "- Read in the data with the correct separator (csv, xls, json, and h5) and load it\n",
    "- Clean the data by: \n",
    "    - deleting Unnamed columns\n",
    "    - inferring column types (float, int, list)\n",
    "    - processing dates and extracting relevant information from it: year, month, day, day_of_week, hour, etc.\n",
    "    - removing duplicates\n",
    "- Prepare train and test splits\n",
    "\n",
    "More information here: https://mlbox.readthedocs.io/en/latest/features.html#mlbox.preprocessing.Reader"
   ]
  },
  {
   "cell_type": "code",
   "execution_count": null,
   "metadata": {},
   "outputs": [],
   "source": [
    "rd = Reader(sep=\",\")\n",
    "df = rd.train_test_split(paths, target_name)"
   ]
  },
  {
   "cell_type": "markdown",
   "metadata": {
    "colab": {
     "base_uri": "https://localhost:8080/",
     "height": 578
    },
    "colab_type": "code",
    "id": "Mwj-hQatrCjH",
    "outputId": "9687e951-3097-4ae7-8a91-aa73bb753a4f"
   },
   "source": [
    "<img src=\"./images/article_10/reading_files.png\">"
   ]
  },
  {
   "cell_type": "markdown",
   "metadata": {},
   "source": [
    "When this function is done running, it creates a folder named ``save`` where it dumps the target encoder for later use."
   ]
  },
  {
   "cell_type": "code",
   "execution_count": null,
   "metadata": {},
   "outputs": [],
   "source": [
    "df[\"train\"].head()"
   ]
  },
  {
   "cell_type": "markdown",
   "metadata": {
    "colab": {
     "base_uri": "https://localhost:8080/",
     "height": 204
    },
    "colab_type": "code",
    "id": "WaJ6VGctrE5p",
    "outputId": "d8a5f438-864b-4a4a-982b-fac8ce7034af"
   },
   "source": [
    "<img src=\"./images/article_10/dataframe.png\">"
   ]
  },
  {
   "cell_type": "markdown",
   "metadata": {},
   "source": [
    "## Removing drift "
   ]
  },
  {
   "cell_type": "markdown",
   "metadata": {},
   "source": [
    "This is an innovative feature I haven't encountered in other packages. The main idea is to automatically detect and remove variables that have a distribution that is substantially different between the train and the test set.\n",
    "\n",
    "This happens quite a lot and we generally talk about biased data. You could have for example a situation when the  train set has a population of young people whereas the test has elderly only. This indicates that the age feature is not robust and may lead to a poor performance of the model when testing. So it has to be discarded.\n",
    "\n",
    "More information: \n",
    "\n",
    "- about the algorithm: https://github.com/AxeldeRomblay/MLBox/blob/master/docs/webinars/features.pdf\n",
    "- about MLBox implementation: https://mlbox.readthedocs.io/en/latest/features.html#mlbox.preprocessing.Drift_thresholder\n",
    "\n",
    "<figure>\n",
    "<img src=\"./images/article_10/drift.png\" width=\"75%\">\n",
    "<figcaption style=\"text-align:center\">Diagram taken from <a href=\"https://github.com/AxeldeRomblay/MLBox/blob/master/docs/webinars/features.pdf\">this presentation</a></figcaption>\n",
    "</figure>\n",
    "\n"
   ]
  },
  {
   "cell_type": "markdown",
   "metadata": {},
   "source": [
    "## How does MLBox compute drifts for individual variables"
   ]
  },
  {
   "cell_type": "markdown",
   "metadata": {},
   "source": [
    "MLBox builds a classifier that separates train from test data. It then uses the ROC score related to this classifier as a measure of the drift. \n",
    "\n",
    "This makes sense: \n",
    "\n",
    "- If the drift score is high (i.e. the ROC score is high) the ability the discern train data from test data is easy, which means that the two distributions are very different.\n",
    "- Otherwise, if the drift score is low (i.e. the ROC score is low) the classifier is not able to separate the two disctributions correctly.\n",
    "\n",
    "\n",
    "MLBox provides a class called Drift_thresholder that takes as input the train and test sets as well as the target and computes a drift score of each one of the variables.\n",
    "\n",
    "Drift_thresholder then deletes the variables that have a drift score higher that a threshold (default to 0.6)."
   ]
  },
  {
   "cell_type": "code",
   "execution_count": null,
   "metadata": {},
   "outputs": [],
   "source": [
    "dft = Drift_thresholder()\n",
    "df = dft.fit_transform(df)"
   ]
  },
  {
   "cell_type": "markdown",
   "metadata": {
    "colab": {
     "base_uri": "https://localhost:8080/",
     "height": 340
    },
    "colab_type": "code",
    "id": "mjDvwPi0rPZJ",
    "outputId": "55c68731-5b4d-421f-8993-3764a4daa717"
   },
   "source": [
    "<img src=\"./images/article_10/computing_drifts.png\">"
   ]
  },
  {
   "cell_type": "markdown",
   "metadata": {},
   "source": [
    "As you see here, `Name`, `PassengerId` and `Ticket` get removed beacause of their respective drift scores. If you think about it, this is not surprising at all because these variables, given their nature, can have any random value thus resulting in plausible drift between their train and test distributions."
   ]
  },
  {
   "cell_type": "markdown",
   "metadata": {
    "colab_type": "text",
    "id": "A8ZJGbAV1jgD"
   },
   "source": [
    "## The heavy lifting : optimizing"
   ]
  },
  {
   "cell_type": "markdown",
   "metadata": {
    "colab_type": "text",
    "id": "wCmNqkY1n_iF"
   },
   "source": [
    "This section performs the optimisation of the pipeline and tries different configurations of the parameters:\n",
    "\n",
    "- NA encoder (missing values encoder)\n",
    "- CA encoder (categorical features encoder)\n",
    "- Feature selector (OPTIONAL)\n",
    "- Stacking estimator - feature engineer (OPTIONAL)\n",
    "- Estimator (classifier or regressor)\n",
    "\n",
    "More details here: https://mlbox.readthedocs.io/en/latest/features.html#mlbox.optimisation.Optimiser\n",
    "\n",
    "We first instantiate the Optimiser class:"
   ]
  },
  {
   "cell_type": "code",
   "execution_count": null,
   "metadata": {},
   "outputs": [],
   "source": [
    "opt = Optimiser()"
   ]
  },
  {
   "cell_type": "markdown",
   "metadata": {},
   "source": [
    "Then we can run it using the default model configuration set as default (LightGBM) without any autoML or complex grid search. \n",
    "\n",
    "This should be the first baseline"
   ]
  },
  {
   "cell_type": "code",
   "execution_count": null,
   "metadata": {},
   "outputs": [],
   "source": [
    "warnings.filterwarnings('ignore', category=DeprecationWarning)\n",
    "score = opt.evaluate(None, df)"
   ]
  },
  {
   "cell_type": "markdown",
   "metadata": {
    "colab": {
     "base_uri": "https://localhost:8080/",
     "height": 411
    },
    "colab_type": "code",
    "id": "4zNoDSc-sgIF",
    "outputId": "2661f098-5634-4afb-f49b-01a839a0b6d9"
   },
   "source": [
    "<img src=\"./images/article_10/baseline_optim.png\">"
   ]
  },
  {
   "cell_type": "markdown",
   "metadata": {},
   "source": [
    "The neg_log_loss = -0.6325 as a first baseline. \n",
    "\n",
    "Let's now define a space of multiple configurations: \n",
    "\n",
    "- ne__numerical_strategy: how to handle missing data in numerical features\n",
    "- ce__strategy: how to handle categorical variables encoding\n",
    "- fs: feature selection\n",
    "- stck: meta-features stacker\n",
    "- est: final estimator"
   ]
  },
  {
   "cell_type": "code",
   "execution_count": null,
   "metadata": {},
   "outputs": [],
   "source": [
    "space = {\n",
    "        'ne__numerical_strategy':{\"search\":\"choice\",\n",
    "                                 \"space\":[0, \"mean\"]},\n",
    "        'ce__strategy':{\"search\":\"choice\",\n",
    "                        \"space\":[\"label_encoding\", \"random_projection\", \"entity_embedding\"]}, \n",
    "        'fs__threshold':{\"search\":\"uniform\",\n",
    "                        \"space\":[0.001, 0.2]}, \n",
    "        'est__strategy':{\"search\":\"choice\", \n",
    "                         \"space\":[\"RandomForest\", \"ExtraTrees\", \"LightGBM\"]},\n",
    "        'est__max_depth':{\"search\":\"choice\", \n",
    "                          \"space\":[8, 9, 10, 11, 12, 13]}\n",
    "        }\n",
    "\n",
    "params = opt.optimise(space, df, 15)"
   ]
  },
  {
   "cell_type": "markdown",
   "metadata": {},
   "source": [
    "<img src=\"./images/article_10/optim.png\">"
   ]
  },
  {
   "cell_type": "markdown",
   "metadata": {},
   "source": [
    "Let's now evaluate this model:"
   ]
  },
  {
   "cell_type": "code",
   "execution_count": null,
   "metadata": {},
   "outputs": [],
   "source": [
    "opt.evaluate(params, df)"
   ]
  },
  {
   "cell_type": "markdown",
   "metadata": {
    "colab": {
     "base_uri": "https://localhost:8080/",
     "height": 533
    },
    "colab_type": "code",
    "id": "TLGZcGpMnOyg",
    "outputId": "d3693f3b-a46e-49ae-9426-cf661633d98e"
   },
   "source": [
    "<img src=\"images/article_10/evaluation.png\">"
   ]
  },
  {
   "cell_type": "markdown",
   "metadata": {},
   "source": [
    "Running this pipeline resulted in a higher neg loss, which is better. \n",
    "\n",
    "There's clearly very good potential of more improvement if we define a better space of search or stacking operations and maybe other feature selection techniques."
   ]
  },
  {
   "cell_type": "markdown",
   "metadata": {
    "colab_type": "text",
    "id": "WNdhUPAq1tzw"
   },
   "source": [
    "# 4 - Running predictions"
   ]
  },
  {
   "cell_type": "markdown",
   "metadata": {
    "colab_type": "text",
    "id": "oY1P0nb9oYiC"
   },
   "source": [
    "Now we fit the optimal pipeline and predict on our test dataset. \n",
    "\n",
    "\n",
    "More details here: https://mlbox.readthedocs.io/en/latest/features.html#mlbox.prediction.Predictor"
   ]
  },
  {
   "cell_type": "code",
   "execution_count": null,
   "metadata": {
    "colab": {
     "base_uri": "https://localhost:8080/",
     "height": 828
    },
    "colab_type": "code",
    "id": "2CyWSv7PsnQ7",
    "outputId": "a9d77479-4cc3-4a35-e6c0-f7c824069fdd"
   },
   "outputs": [],
   "source": [
    "prd = Predictor()\n",
    "prd.fit_predict(params, df)"
   ]
  },
  {
   "cell_type": "markdown",
   "metadata": {},
   "source": [
    "# 5 - Conclusion\n",
    "\n",
    "Running an automated AutoML pipeline has never been easier. With MLBox, you can do this very quickly and efficiently so that you can focus on what really matters when solving a business problem.\n",
    "\n",
    "- Understanding the problem\n",
    "- Acquiring and consolidating the right data\n",
    "- Formalizing the performance metrics to reach and compute\n",
    "\n",
    "Let's hope these three first steps don't get automated soon :)\n",
    "\n",
    "Hope you liked this library. Don't hesitate to star it on <a href=\"https://github.com/AxeldeRomblay/MLBox\"> github</a> or report an <a href=\"https://github.com/AxeldeRomblay/MLBox/issues\">issue</a> to its contributor."
   ]
  }
 ],
 "metadata": {
  "colab": {
   "collapsed_sections": [],
   "name": "mlbox.ipynb",
   "provenance": []
  },
  "kernelspec": {
   "display_name": "Python [conda env:automl]",
   "language": "python",
   "name": "conda-env-automl-py"
  },
  "language_info": {
   "codemirror_mode": {
    "name": "ipython",
    "version": 3
   },
   "file_extension": ".py",
   "mimetype": "text/x-python",
   "name": "python",
   "nbconvert_exporter": "python",
   "pygments_lexer": "ipython3",
   "version": "3.7.4"
  }
 },
 "nbformat": 4,
 "nbformat_minor": 1
}
