{
 "cells": [
  {
   "cell_type": "markdown",
   "metadata": {},
   "source": [
    "*This post is the third and last one of a series I dedicated to medical imaging and deep learning. If you're interested in this topic you can read my <a href=\"https://ahmedbesbes.com/automate-the-diagnosis-of-knee-injuries-with-deep-learning-part-1-an-overview-of-the-mrnet-dataset.html\">first article</a> where I explore the MRNet knee MRI dataset released by Stanford and my <a href=\"https://ahmedbesbes.com/automate-the-diagnosis-of-knee-injuries-with-deep-learning-part-1-an-overview-of-the-mrnet-dataset.html\">second article</a> where I train a convolutional neural network to classify the related knee injuries. The model is implemented in PyTorch and the source code is now available on my github <a href=\"https://github.com/ahmedbesbes/mrnet\">repo</a>.*\n",
    "\n",
    "In this post, we will focus on interpretability to assess what the model(s) we trained actually learnt from the MRI scans so that its (their) predictions can be explained to a real radiologist.\n",
    "The goal of this tutorial is to get you familiar with a popular interpretability technique called **Class Activation Map**, applied when using convolutional neural networks that have a special architecture. \n",
    "\n",
    "This will hopefully give you more confidence in your models’ predictions and provide you with the ability to better explain them to a larger audience.\n",
    "\n",
    "\n",
    "Throughout this post, we'll be covering the following topics:\n",
    "\n",
    "* Model interpretability and the importance of explaining complex decisions in sensitive application areas\n",
    "* How to make Convolutional Neural networks interpretable by visualizing their predictions through the Class Activation Map (CAM)\n",
    "* How to implement this method in PyTorch\n",
    "\n",
    "Class Activation Map is a method that is completely generic and can be reproduced and applied to different computer vision projets. So feel free to play with the code and adapt it to meet your needs."
   ]
  },
  {
   "cell_type": "markdown",
   "metadata": {},
   "source": [
    "# Machine learning and the urge of interpretability"
   ]
  },
  {
   "cell_type": "markdown",
   "metadata": {},
   "source": [
    "<img src=\"images/article_8/explainability.jpg\">"
   ]
  },
  {
   "cell_type": "markdown",
   "metadata": {},
   "source": [
    "Model interpretability encompasses the different tools and techniques that allow to inspect and understand why a predictive model provided a given prediction to a given input.\n",
    "\n",
    "With machine learning models being more and more deployed to production environments in various sectors such as financial services, defense and healthcare, the ability to answer this question becomes critical. In fact, having a machine learning model with good performance metrics is barely enough for today's business purposes. What the industry needs is knowing the decision process behind each decision to motivate further actions. \n",
    "\n",
    "Here are some examples of real-world scenarios I came accross in my experience and where I think interpretability matters:\n",
    "\n",
    "- If you're building a **credit scoring** engine that denies a credit application to a customer, you are legally obliged to provide a comprehensive justification based on the variables that were used in the computations and led to the credit denial\n",
    "\n",
    "- When working on **fraud detection** either for insurance or financial services, you must motivate to the business why you suspect a fraud and why your model should be trusted. In fact, the business will not take your output for granted. They'll have to inspect the causes and the features that highlighted the suspicious behavior before taking any investigation steps that could take time and resources at different levels of the organization.\n",
    "\n",
    "- When designing a job recommendation engine to help **human resources** managers, you have to make sure that your models are not biased toward specific attributes such as the gender, the age or the ethnicity.\n",
    "\n",
    "We could think of a lot more reasons to introduce interpretability. Today's focus, as you expect it, is healthcare.\n",
    "\n",
    "The question we'll try to answer is the following:\n",
    "\n",
    "> ### What makes the Convolutional Neural Network MRNet model we trained think a given patient is subject to an ACL tear by \"looking\" at his MRI exam?"
   ]
  },
  {
   "cell_type": "markdown",
   "metadata": {},
   "source": [
    "# The problem with Convolutional Neural Networks\n",
    "\n",
    "Convolutional Neural Networks have a special architecture that allows them to represent images in a way classification problems become a lot easier. This is done by converting the input into a feature vector that is supposed to condense all the important visual informations that were initially present in the image. If you're building a car classifier for example, you could think of one of these features as the presence (or the absence) of wheels."
   ]
  },
  {
   "cell_type": "markdown",
   "metadata": {},
   "source": [
    "<img src=\"./images/article_8/convnet.jpeg\">"
   ]
  },
  {
   "cell_type": "markdown",
   "metadata": {},
   "source": [
    "If you're interested in learning more about ConvNets; how they work and how to use them in practical use cases, I encourage you to go through a <a href=\"https://ahmedbesbes.com/understanding-deep-convolutional-neural-networks-with-a-practical-use-case-in-tensorflow-and-keras.html\">post</a> I wrote on this topic about one year ago.\n",
    "\n",
    "Although ConvNets have became very efficient lately by outperforming the human eye in visual tasks of different levels of complexitiy, one question still arises a lot: **are we able to explain why these networks work so well**?\n",
    "\n",
    "> ### There are two ways to answer this question.\n",
    "\n",
    "\n",
    "If you're interested in the theory behind these networks, you can dive into pure mathematical considerations and watch Stéphane Mallat's excellent presentation in which he approaches and explains ConvNets in a mathematical formalism by introducing his famous theory of wavelets."
   ]
  },
  {
   "cell_type": "markdown",
   "metadata": {},
   "source": [
    "[![IMAGE ALT TEXT HERE](https://img.youtube.com/vi/4eyUReyIPXg/0.jpg)](https://www.youtube.com/watch?v=4eyUReyIPXg)"
   ]
  },
  {
   "cell_type": "markdown",
   "metadata": {},
   "source": [
    "The other way to build an intuition on why ConvNets work is by visualizing the salient areas these networks focus on before making a prediction when confronted with an image. \n",
    "\n",
    "Just like humans rapidly recognize objects by focusing on their important visual attributes (the wings for birds or \n",
    "the trunk for elephants), ConvNets virtually do the same by attending to some regions.\n",
    "\n",
    "\n",
    "By \"going backward\" in the network, some techniques allow to highlight the image regions that were most activated for a given class. There's of course a lot of techniques. Today, we'll be looking at a popular one called **Class Activation Map** and introduced in this <a href=\"https://arxiv.org/pdf/1512.04150.pdf\">paper</a>."
   ]
  },
  {
   "cell_type": "markdown",
   "metadata": {},
   "source": [
    "<img src=\"images/article_8/cam_examples.jpg\">"
   ]
  },
  {
   "cell_type": "markdown",
   "metadata": {},
   "source": [
    "# Reminder on the Global Average Pooling layer\n",
    "\n",
    "This layer is an important block of your network if you want to use Class Activation Map. Without it, computing CAM is not possible.\n",
    "\n",
    "This layer is used in MRNet after the last convolutional layer of the AlexNet pretrained network.\n",
    "\n",
    "What it does is actually pretty simple: when confronted with a number (depth) of filters of size (height x width), it reduces each one to its spatial mean. In other terms, it performs independant average poolings over each filter and stack the results in a vector of size 1 x 1 x depth.\n",
    "\n",
    "We'll see it next; **filters with high activations will hive higher signal**.\n",
    "\n",
    "<img src=\"images/article_8/global_average_pooling.png\" width=\"75%\">"
   ]
  },
  {
   "cell_type": "markdown",
   "metadata": {},
   "source": [
    "# Class Activation Map\n",
    "\n",
    "Class Activation Map (CAM) is a technique that allows to highlight discriminative regions used by a CNN to indentify a class in the image.\n",
    "\n",
    "As we stated before, to be able to build a CAM, the CNN must have a global average pooling layer after the final convolutional layer and then a linear (dense) classification layer. This means that this method cannot unfortunately be directly applied to all CNN architectures. The trick is to plug an existing pretrained network to a global average pooling layer and then finetune this layer through additional training.\n",
    "\n",
    "CAM is still powerful and easy to put in place. Let's now see how it's generated for a simple 2D image."
   ]
  },
  {
   "cell_type": "markdown",
   "metadata": {},
   "source": [
    "<img src=\"images/article_8/cam_archi.png\" width=\"80%\">"
   ]
  },
  {
   "cell_type": "markdown",
   "metadata": {},
   "source": [
    "When fed with a 2D color image, a CNN constrained with a global average pooling layer, outputs after the last convolutional layer a set of filters (blue, red ... green in figure above) that get redued to a vector after global average pooling. This vector is then connected to a final classification layer to output the predicted class.\n",
    "\n",
    "- Each filter (blue, red, ... green), contains a 2D low-level spatial information about the image that got distilled after layers of successive convolutions.\n",
    "\n",
    "- Each weight w1, w2, ... wn represent the partial importance of each reduced filter in determining the output class (Australian terrier).\n",
    "\n",
    "These filters and weights adjust throughout training by the back-propagation algorithm.\n",
    "\n",
    "The author of the paper defined class activation map as a weighted sum of the filters by the weights w1, w2, ... wn\n",
    "\n",
    "**A Class Activation Map is therefore a sum of a set of spatial 2D activations (i.e filters) weighted with respect to their relative importance in determining the output class.**\n",
    "\n",
    "When a class activation map is generated, it obviously has not the dimension of the initial image (it has the dimension of filters of the last conv layer). To be able to use it and superpose it to the input, an upsampling opreation is done to resize it.\n",
    "\n",
    "When superposed to the initial image, CAM is represented as a heatmap in which discriminative regions are painted in <font color=\"red\"><b>red</b></font>."
   ]
  },
  {
   "cell_type": "markdown",
   "metadata": {},
   "source": [
    "# CAM implementation in PyTorch\n",
    "\n",
    "Let's start by generating CAMs for simple classes from the ImageNet dataset. To do this, we'll be using pretrained networks that have a Global Average Pooling layer. \n",
    "\n",
    "Hopefully, some of these networks are available in torchvision:\n",
    "\n",
    "- squeezenet1_1\n",
    "- resnet18\n",
    "- densenet161\n",
    "\n",
    "We'll be using: resnet18"
   ]
  },
  {
   "cell_type": "code",
   "execution_count": 1,
   "metadata": {},
   "outputs": [
    {
     "data": {
      "text/html": [
       "<style>.prompt{width: 0px; min-width: 0px; visibility: collapse}</style>"
      ],
      "text/plain": [
       "<IPython.core.display.HTML object>"
      ]
     },
     "metadata": {},
     "output_type": "display_data"
    }
   ],
   "source": [
    "from IPython.core.display import display,HTML\n",
    "display(HTML('<style>.prompt{width: 0px; min-width: 0px; visibility: collapse}</style>'))\n",
    "\n",
    "%matplotlib inline\n",
    "%config Completer.use_jedi=False\n",
    "\n",
    "import os\n",
    "import io\n",
    "import requests\n",
    "from PIL import Image\n",
    "from torchvision import models, transforms\n",
    "from torch.autograd import Variable\n",
    "from torch.nn import functional as F\n",
    "import numpy as np\n",
    "import cv2\n",
    "import pdb\n",
    "\n",
    "from matplotlib import pyplot as plt\n",
    "\n",
    "model_id = 2\n",
    "if model_id == 1:\n",
    "    net = models.squeezenet1_1(pretrained=True)\n",
    "    finalconv_name = 'features' # this is the last conv layer of the network\n",
    "elif model_id == 2:\n",
    "    net = models.resnet18(pretrained=True)\n",
    "    finalconv_name = 'layer4'\n",
    "elif model_id == 3:\n",
    "    net = models.densenet161(pretrained=True)\n",
    "    finalconv_name = 'features'"
   ]
  },
  {
   "cell_type": "markdown",
   "metadata": {},
   "source": [
    "Once the model is loaded, we have to define a function that extracts the result of the final convolution layer once a image goes through the network in a forward pass.\n",
    "\n",
    "Since PyTorch doesn't allow to access this result directly, we'll have to wrap this function inside the register_forward_hook method. This means that the output will be extracted each time the network makes a forward pass."
   ]
  },
  {
   "cell_type": "code",
   "execution_count": null,
   "metadata": {},
   "outputs": [],
   "source": [
    "net.eval()\n",
    "\n",
    "# hook the feature extractor\n",
    "features_blobs = []\n",
    "def hook_feature(module, input, output):\n",
    "    features_blobs.append(output.data.cpu().numpy())\n",
    "\n",
    "net._modules.get(finalconv_name).register_forward_hook(hook_feature);"
   ]
  },
  {
   "cell_type": "markdown",
   "metadata": {},
   "source": [
    "Now we extract the weights connecting the output of the class activation map (the vector in orange) to the final (classification) layer"
   ]
  },
  {
   "cell_type": "code",
   "execution_count": null,
   "metadata": {},
   "outputs": [],
   "source": [
    "params = list(net.parameters())\n",
    "weight_softmax = np.squeeze(params[-2].data.numpy())"
   ]
  },
  {
   "cell_type": "markdown",
   "metadata": {},
   "source": [
    "This tensor has the shape : (1000, 512). It connects 512 reduced filters to 1000 output classes.\n",
    "\n",
    "Now let's define a function that computes a CAM for a given image.\n",
    "\n",
    "Assuming this function has the following arguments:\n",
    "\n",
    "- feature_conv: the output of the last conv layer after passing the image through the network \n",
    "- weight_softmax: the weights connecting the output of the class activation map to final (classification) layer\n",
    "- class_idx: the index(es) of the predicted class(es)\n",
    "\n",
    "it'll for each class:\n",
    "\n",
    "- compute the class activation map as a dot product between the weights and the filters and store it in the variable ``cam``\n",
    "- normalize ``cam``\n",
    "- upsample it to original size (256, 256)"
   ]
  },
  {
   "cell_type": "code",
   "execution_count": null,
   "metadata": {},
   "outputs": [],
   "source": [
    "def returnCAM(feature_conv, weight_softmax, class_idx):\n",
    "    # generate the class activation maps upsample to 256x256\n",
    "    size_upsample = (256, 256)\n",
    "    bz, nc, h, w = feature_conv.shape\n",
    "    output_cam = []\n",
    "    for idx in class_idx:\n",
    "        cam = weight_softmax[idx].dot(feature_conv.reshape((nc, h*w)))\n",
    "        cam = cam.reshape(h, w)\n",
    "        cam = cam - np.min(cam)\n",
    "        cam_img = cam / np.max(cam)\n",
    "        cam_img = np.uint8(255 * cam_img)\n",
    "        output_cam.append(cv2.resize(cam_img, size_upsample))\n",
    "    return output_cam"
   ]
  },
  {
   "cell_type": "markdown",
   "metadata": {},
   "source": [
    "Let's donwload this image from the internet and extract possibles CAMs out of it:"
   ]
  },
  {
   "cell_type": "markdown",
   "metadata": {},
   "source": [
    "<img src=\"images/article_8/test.jpg\">"
   ]
  },
  {
   "cell_type": "markdown",
   "metadata": {},
   "source": [
    "We first apply a series of normalization steps to the image.\n",
    "\n",
    "We then pass it through the network, get the top classes and their respective probabilities."
   ]
  },
  {
   "cell_type": "code",
   "execution_count": null,
   "metadata": {},
   "outputs": [],
   "source": [
    "normalize = transforms.Normalize(\n",
    "   mean=[0.485, 0.456, 0.406],\n",
    "   std=[0.229, 0.224, 0.225]\n",
    ")\n",
    "preprocess = transforms.Compose([\n",
    "   transforms.Resize((224,224)),\n",
    "   transforms.ToTensor(),\n",
    "   normalize\n",
    "])\n",
    "\n",
    "LABELS_URL = 'https://s3.amazonaws.com/outcome-blog/imagenet/labels.json'\n",
    "# download the imagenet category list\n",
    "classes = {int(key):value for (key, value)\n",
    "          in requests.get(LABELS_URL).json().items()}\n",
    "\n",
    "IMG_URL = \"https://image.shutterstock.com/image-photo/pets-260nw-364732025.jpg\"\n",
    "response = requests.get(IMG_URL)\n",
    "img_pil = Image.open(io.BytesIO(response.content))\n",
    "img_pil.save('./images/article_8/test.jpg')\n",
    "\n",
    "img_tensor = preprocess(img_pil)\n",
    "img_variable = Variable(img_tensor.unsqueeze(0))\n",
    "\n",
    "logit = net(img_variable)\n",
    "h_x = F.softmax(logit, dim=1).data.squeeze(0)\n",
    "probs, idx = h_x.sort(0, True)\n",
    "probs = probs.numpy()\n",
    "idx = idx.numpy()"
   ]
  },
  {
   "cell_type": "markdown",
   "metadata": {},
   "source": [
    "ImageNet classes are pretty detailed. Hopefully, the three first most probable classes are cats and the fifth one is a dog. A tennis ball pops out for some reason in the fourth position."
   ]
  },
  {
   "cell_type": "code",
   "execution_count": null,
   "metadata": {},
   "outputs": [],
   "source": [
    "for i in range(0, 5):\n",
    "    print('{} -> {}'.format(probs[i], classes[idx[i]]))"
   ]
  },
  {
   "cell_type": "markdown",
   "metadata": {},
   "source": [
    "- 0.3868488073348999 -> tabby, tabby cat\n",
    "- 0.06735341995954514 -> tiger cat\n",
    "- 0.038069386035203934 -> Egyptian cat\n",
    "- 0.029267065227031708 -> tennis ball\n",
    "- 0.022481607273221016 -> Rhodesian ridgeback"
   ]
  },
  {
   "cell_type": "markdown",
   "metadata": {},
   "source": [
    "Now we'll be generating and plotting CAMs for the top 5 classes ordered in decreasing probabilities."
   ]
  },
  {
   "cell_type": "code",
   "execution_count": null,
   "metadata": {
    "scrolled": false
   },
   "outputs": [],
   "source": [
    "CAMs = returnCAM(features_blobs[0], weight_softmax, idx[:5])\n",
    "\n",
    "img = cv2.imread('./images/article_8/test.jpg')\n",
    "\n",
    "height, width, _ = img.shape\n",
    "\n",
    "results = []\n",
    "\n",
    "fig = plt.figure(figsize=(15, 6))\n",
    "for i, cam in enumerate(CAMs):\n",
    "    heatmap = cv2.cvtColor(cv2.applyColorMap(cv2.resize(cam, (width, height)), cv2.COLORMAP_JET), cv2.COLOR_BGR2RGB)\n",
    "\n",
    "    result = heatmap * 0.3 + img * 0.5  \n",
    "    pil_img_cam = Image.fromarray(np.uint8(result))\n",
    "    \n",
    "    plt.subplot(2, 3, i + 1)\n",
    "    \n",
    "    plt.imshow(np.array(pil_img_cam))\n",
    "    plt.title(classes[idx[i]])"
   ]
  },
  {
   "cell_type": "markdown",
   "metadata": {},
   "source": [
    "<img src=\"images/article_8/cam_cat_dog.png\">"
   ]
  },
  {
   "cell_type": "markdown",
   "metadata": {},
   "source": [
    "As you see it, the attention is highlighted over the cat whether it's tabby, tiger, or egyptian."
   ]
  },
  {
   "cell_type": "markdown",
   "metadata": {},
   "source": [
    "# Apply CAM to MRNet network\n",
    "\n",
    "Now comes the fun part: let's apply what we just did on the MRNet network we trained in the previous <a href=\"https://ahmedbesbes.com/automate-the-diagnosis-of-knee-injuries-with-deep-learning-part-2-building-an-acl-tear-classifier.html\">post</a> to highlight the regions that activate most when the network detects an ACL tear.\n",
    "\n",
    "There is however a **subtle difference**: MRNet's input is a set of MRI slices: CAMs will therefore get computed independently over each one. This results in a small modification of the ``returnCAM`` function.\n",
    "\n",
    "For simplicity, we'll consider the network trained on sagittal plane (where ACL tear is best detected) only. "
   ]
  },
  {
   "cell_type": "code",
   "execution_count": null,
   "metadata": {},
   "outputs": [],
   "source": [
    "import sys\n",
    "sys.path.append('../../mrnet')\n",
    "\n",
    "import torch\n",
    "import model\n",
    "from dataloader import MRDataset\n",
    "from tqdm import tqdm_notebook\n",
    "\n",
    "task = 'acl'\n",
    "plane = 'sagittal'\n",
    "prefix = 'v3'\n",
    "\n",
    "model_name = [name  for name in os.listdir('../models/') \n",
    "              if (task in name) and \n",
    "                 (plane in name) and \n",
    "                 (prefix in name)][0]\n",
    "\n",
    "is_cuda = torch.cuda.is_available()\n",
    "device = torch.device(\"cuda\" if is_cuda else \"cpu\")\n",
    "\n",
    "mrnet = torch.load(f'../models/{model_name}')\n",
    "mrnet = mrnet.to(device)\n",
    "\n",
    "_ = mrnet.eval()\n",
    "\n",
    "dataset = MRDataset('../data/', \n",
    "                    task, \n",
    "                    plane, \n",
    "                    transform=None, \n",
    "                    train=False)\n",
    "loader = torch.utils.data.DataLoader(dataset, \n",
    "                                     batch_size=1, \n",
    "                                     shuffle=False, \n",
    "                                     num_workers=0, \n",
    "                                     drop_last=False)\n",
    "\n",
    "def returnCAM(feature_conv, weight_softmax, class_idx):\n",
    "    size_upsample = (256, 256)\n",
    "    bz, nc, h, w = feature_conv.shape\n",
    "    slice_cams = []\n",
    "    for s in range(bz):\n",
    "        for idx in class_idx:\n",
    "            cam = weight_softmax[idx].dot(feature_conv[s].reshape((nc, h*w)))\n",
    "            cam = cam.reshape(h, w)\n",
    "            cam = cam - np.min(cam)\n",
    "            cam_img = cam / np.max(cam)\n",
    "            cam_img = np.uint8(255 * cam_img)\n",
    "            slice_cams.append(cv2.resize(cam_img, size_upsample))\n",
    "    return slice_cams"
   ]
  },
  {
   "cell_type": "markdown",
   "metadata": {},
   "source": [
    "We create a list of patients who are subject to ACL tear to test CAM:"
   ]
  },
  {
   "cell_type": "code",
   "execution_count": null,
   "metadata": {},
   "outputs": [],
   "source": [
    "patients = []\n",
    "\n",
    "for i, (image, label, _) in tqdm_notebook(enumerate(loader), total=len(loader)):\n",
    "    patient_data = {}\n",
    "    patient_data['mri'] = image\n",
    "    patient_data['label'] = label[0][0][1].item()\n",
    "    patient_data['id'] = '0' * (4 - len(str(i))) + str(i)\n",
    "    patients.append(patient_data)\n",
    "\n",
    "acl = list(filter(lambda d: d['label'] == 1, patients))"
   ]
  },
  {
   "cell_type": "markdown",
   "metadata": {},
   "source": [
    "For each patient in the ``acl`` list, we generate a set of CAMs for each of the MRI slices and then we save everything on disk."
   ]
  },
  {
   "cell_type": "code",
   "execution_count": null,
   "metadata": {},
   "outputs": [],
   "source": [
    "def create_patiens_cam(case, plane):\n",
    "    patient_id = case['id']\n",
    "    mri = case['mri']\n",
    "\n",
    "    folder_path = f'./CAMS/{plane}/{patient_id}/'\n",
    "    if os.path.isdir(folder_path):\n",
    "        shutil.rmtree(folder_path)\n",
    "    os.makedirs(folder_path)\n",
    "    os.makedirs(folder_path + 'slices/')\n",
    "    os.makedirs(folder_path + 'cams/')\n",
    "    \n",
    "    params = list(mrnet.parameters())\n",
    "    weight_softmax = np.squeeze(params[-2].cpu().data.numpy())\n",
    "    \n",
    "    num_slices = mri.shape[1]\n",
    "    global feature_blobs\n",
    "    feature_blobs = []\n",
    "    mri = mri.to(device)\n",
    "    logit = mrnet(mri)\n",
    "    size_upsample = (256, 256)\n",
    "    feature_conv = feature_blobs[0]\n",
    "    \n",
    "    h_x = F.softmax(logit, dim=1).data.squeeze(0)\n",
    "    probs, idx = h_x.sort(0, True)\n",
    "    probs = probs.cpu().numpy()\n",
    "    idx = idx.cpu().numpy()\n",
    "    slice_cams = returnCAM(feature_blobs[-1], weight_softmax, idx[:1])\n",
    "    \n",
    "    for s in tqdm_notebook(range(num_slices), leave=False):\n",
    "        slice_pil = (transforms\n",
    "                     .ToPILImage()(mri.cpu()[0][s] / 255))\n",
    "        slice_pil.save(folder_path + f'slices/{s}.png', \n",
    "                       dpi=(300, 300))\n",
    "         \n",
    "        img = mri[0][s].cpu().numpy()\n",
    "        img = img.transpose(1, 2, 0)\n",
    "        heatmap = (cv2\n",
    "                    .cvtColor(cv2.applyColorMap(\n",
    "                        cv2.resize(slice_cams[s], (256, 256)),\n",
    "                        cv2.COLORMAP_JET), \n",
    "                               cv2.COLOR_BGR2RGB)\n",
    "                  )\n",
    "        result = heatmap * 0.3 + img * 0.5  \n",
    "        \n",
    "        pil_img_cam = Image.fromarray(np.uint8(result))\n",
    "        pil_img_cam.save(folder_path + f'cams/{s}.png', dpi=(300, 300))"
   ]
  },
  {
   "cell_type": "markdown",
   "metadata": {},
   "source": [
    "# Some examples of highlighted ACL tears\n",
    "\n",
    "Here are some examples of CAMs that spot knee injuries on MRI slices."
   ]
  },
  {
   "cell_type": "markdown",
   "metadata": {},
   "source": [
    "<img src=\"images/article_8/cam_ex_1.png\" width=\"60%\">"
   ]
  },
  {
   "cell_type": "markdown",
   "metadata": {},
   "source": [
    "<img src=\"images/article_8/cam_ex_2.png\" width=\"60%\">"
   ]
  },
  {
   "cell_type": "markdown",
   "metadata": {},
   "source": [
    "<img src=\"images/article_8/cam_ex_3.png\" width=\"60%\">"
   ]
  },
  {
   "cell_type": "markdown",
   "metadata": {},
   "source": [
    "# Conclusion\n",
    "\n",
    "In this post we learnt about Class Activation Map which is an interpretability technique applied to convnets that have a global average pooling layer. We learnt how to implement it in PyTorch and apply it to a real medical application: highlighting knee injuries from MRI slices.\n",
    "\n",
    "In order to go further and allow easier exploration of the MRNet data and the CAMs, I put in place a dash application that allows to visualize for a given patient, the CAMs over the 3 MRI (axial, sagittal and coronal) and through all the slices. This will allow to quickly switch from a patient to another to spot injuries.\n",
    "\n",
    "If you're interested in running the application, the code is available on github <a href=\"https://github.com/ahmedbesbes/mrnet\">repo</a> under the folder ``dash``. I won't unfortunately go into much details about it here, but if you're facing a problem running it, you can open an issue."
   ]
  }
 ],
 "metadata": {
  "kernelspec": {
   "display_name": "Python [conda env:pytorch_0.4]",
   "language": "python",
   "name": "conda-env-pytorch_0.4-py"
  },
  "language_info": {
   "codemirror_mode": {
    "name": "ipython",
    "version": 3
   },
   "file_extension": ".py",
   "mimetype": "text/x-python",
   "name": "python",
   "nbconvert_exporter": "python",
   "pygments_lexer": "ipython3",
   "version": "3.6.7"
  }
 },
 "nbformat": 4,
 "nbformat_minor": 2
}
